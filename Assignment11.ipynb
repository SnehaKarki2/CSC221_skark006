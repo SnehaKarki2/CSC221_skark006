{
  "nbformat": 4,
  "nbformat_minor": 0,
  "metadata": {
    "colab": {
      "provenance": [],
      "authorship_tag": "ABX9TyNOKm8VeivM7pDfBKXhm12E",
      "include_colab_link": true
    },
    "kernelspec": {
      "name": "python3",
      "display_name": "Python 3"
    },
    "language_info": {
      "name": "python"
    }
  },
  "cells": [
    {
      "cell_type": "markdown",
      "metadata": {
        "id": "view-in-github",
        "colab_type": "text"
      },
      "source": [
        "<a href=\"https://colab.research.google.com/github/SnehaKarki2/CSC221_skark006/blob/main/Assignment11.ipynb\" target=\"_parent\"><img src=\"https://colab.research.google.com/assets/colab-badge.svg\" alt=\"Open In Colab\"/></a>"
      ]
    },
    {
      "cell_type": "code",
      "source": [
        "# Name = Sneha Karki\n",
        "# Email = skark006@plattsburgh.edu\n",
        "# CSC221-Intro to Progamming\n",
        ""
      ],
      "metadata": {
        "id": "m8IxAUzxwX1e"
      },
      "execution_count": null,
      "outputs": []
    },
    {
      "cell_type": "code",
      "source": [
        "class Dog():\n",
        "    '''A simple attempt to model a dog.'''\n",
        "\n",
        "    def __init__(self, name, age):\n",
        "        '''Initialize name and age attributes.'''\n",
        "        self.name = name\n",
        "        self.age = age\n",
        "\n",
        "    def sit(self):\n",
        "        '''Simulate dog sitting in response to a command.'''\n",
        "        print(self.name.title() + \" is now sitting.\")\n",
        "\n",
        "    def roll_over(self):\n",
        "        '''Simulate rolling over in response to a command'''\n",
        "        print(self.name.title() + \" rolled over!\")\n",
        ""
      ],
      "metadata": {
        "id": "HV8GK5N_wmgk"
      },
      "execution_count": 3,
      "outputs": []
    },
    {
      "cell_type": "code",
      "source": [
        "my_dog = Dog('willie', 6)\n",
        "print(\"My dog's name is \" + my_dog.name.title() + \".\")\n",
        "print(\"My dog is \" + str(my_dog.age) + \" years old.\")"
      ],
      "metadata": {
        "colab": {
          "base_uri": "https://localhost:8080/"
        },
        "id": "thaOiAqkw0vP",
        "outputId": "9dc6e949-28cc-4234-a0d4-5424ed34d297"
      },
      "execution_count": 4,
      "outputs": [
        {
          "output_type": "stream",
          "name": "stdout",
          "text": [
            "My dog's name is Willie.\n",
            "My dog is 6 years old.\n"
          ]
        }
      ]
    },
    {
      "cell_type": "code",
      "source": [
        "\n",
        "my_dog.name\n",
        ""
      ],
      "metadata": {
        "colab": {
          "base_uri": "https://localhost:8080/",
          "height": 35
        },
        "id": "Sc2aSuaJw5f-",
        "outputId": "ef4b4daa-d236-46db-c7a5-34c73cbf439f"
      },
      "execution_count": 5,
      "outputs": [
        {
          "output_type": "execute_result",
          "data": {
            "text/plain": [
              "'willie'"
            ],
            "application/vnd.google.colaboratory.intrinsic+json": {
              "type": "string"
            }
          },
          "metadata": {},
          "execution_count": 5
        }
      ]
    },
    {
      "cell_type": "code",
      "source": [
        "my_dog.sit()\n",
        "my_dog.roll_over()"
      ],
      "metadata": {
        "colab": {
          "base_uri": "https://localhost:8080/"
        },
        "id": "xU7VhRGgw9MN",
        "outputId": "909fa5cb-4504-409c-b7ef-a7f966417e61"
      },
      "execution_count": 6,
      "outputs": [
        {
          "output_type": "stream",
          "name": "stdout",
          "text": [
            "Willie is now sitting.\n",
            "Willie rolled over!\n"
          ]
        }
      ]
    },
    {
      "cell_type": "code",
      "source": [
        "my_dog = Dog('willie', 6)\n",
        "your_dog = Dog('lucy', 3)\n",
        "\n",
        "print(\"My dog's name is \" + my_dog.name.title() + \".\")\n",
        "print(\"My dog is \" + str(my_dog.age) + \" years old.\")\n",
        "my_dog.sit()\n",
        "\n",
        "print(\"\\nYour dog's name is \" + your_dog.name.title() + \".\")\n",
        "print(\"Your dog is \" + str(your_dog.age) + \" years old.\")\n",
        "your_dog.sit()"
      ],
      "metadata": {
        "colab": {
          "base_uri": "https://localhost:8080/"
        },
        "id": "myPf6xn1xBQr",
        "outputId": "e614e985-95e6-45db-8ea0-50bde5f0750c"
      },
      "execution_count": 7,
      "outputs": [
        {
          "output_type": "stream",
          "name": "stdout",
          "text": [
            "My dog's name is Willie.\n",
            "My dog is 6 years old.\n",
            "Willie is now sitting.\n",
            "\n",
            "Your dog's name is Lucy.\n",
            "Your dog is 3 years old.\n",
            "Lucy is now sitting.\n"
          ]
        }
      ]
    },
    {
      "cell_type": "code",
      "source": [
        "# 9.1\n",
        "class Restaurant():\n",
        "    '''A simple method to make a model of restaurant.'''\n",
        "\n",
        "    def __init__(self, restaurant_name, cuisine_type):\n",
        "        '''It creates an instance of restaurant when class is called.'''\n",
        "        self.restaurant_name = restaurant_name\n",
        "        self.cuisine_type = cuisine_type\n",
        "\n",
        "    def describe_restaurant(self):\n",
        "        print(f\"The name of the restaurant is {self.restaurant_name.title()}.\")\n",
        "        print(f\"The types of cuisine {self.restaurant_name.title()} has is {self.cuisine_type.title()}.\")\n",
        "\n",
        "    def open_restaurant(self):\n",
        "        print(f\"{self.restaurant_name.title()} is now open.\")\n",
        "\n",
        "\n",
        "restaurant = Restaurant(\"indian grill\", \"indian\")\n",
        "\n",
        "print(f\"Restaurant Name: {restaurant.restaurant_name}\")\n",
        "print(f\"Cuisine Type: {restaurant.cuisine_type}\")\n",
        "\n",
        "restaurant.describe_restaurant()\n",
        "restaurant.open_restaurant()"
      ],
      "metadata": {
        "colab": {
          "base_uri": "https://localhost:8080/"
        },
        "id": "lWzCh9EsxHJm",
        "outputId": "80a56d89-0892-4682-efdc-dc339adacadd"
      },
      "execution_count": 8,
      "outputs": [
        {
          "output_type": "stream",
          "name": "stdout",
          "text": [
            "Restaurant Name: indian grill\n",
            "Cuisine Type: indian\n",
            "The name of the restaurant is Indian Grill.\n",
            "The types of cuisine Indian Grill has is Indian.\n",
            "Indian Grill is now open.\n"
          ]
        }
      ]
    },
    {
      "cell_type": "code",
      "source": [
        "# 9.2\n",
        "restaurant1 = Restaurant(\"Restaurant A\", \"Italian\")\n",
        "restaurant2 = Restaurant(\"Restaurant B\", \"Mexican\")\n",
        "restaurant3 = Restaurant(\"Restaurant C\", \"Japanese\")\n",
        "\n",
        "# Call describe_restaurant() for each instance\n",
        "restaurant1.describe_restaurant()\n",
        "restaurant2.describe_restaurant()\n",
        "restaurant3.describe_restaurant()"
      ],
      "metadata": {
        "colab": {
          "base_uri": "https://localhost:8080/"
        },
        "id": "cZyYFKvbxNat",
        "outputId": "8b83d382-7a29-4b22-df17-873007fefe80"
      },
      "execution_count": 9,
      "outputs": [
        {
          "output_type": "stream",
          "name": "stdout",
          "text": [
            "The name of the restaurant is Restaurant A.\n",
            "The types of cuisine Restaurant A has is Italian.\n",
            "The name of the restaurant is Restaurant B.\n",
            "The types of cuisine Restaurant B has is Mexican.\n",
            "The name of the restaurant is Restaurant C.\n",
            "The types of cuisine Restaurant C has is Japanese.\n"
          ]
        }
      ]
    },
    {
      "cell_type": "code",
      "source": [
        "# 9.3\n",
        "class User():\n",
        "    def __init__(self, first_name, last_name, username, email, location):\n",
        "        self.first_name = first_name\n",
        "        self.last_name = last_name\n",
        "        self.username = username\n",
        "        self.email = email\n",
        "        self.location = location\n",
        "\n",
        "    def describe_user(self):\n",
        "        print(f\"User Profile Information for {self.first_name} {self.last_name}:\")\n",
        "        print(f\"Username: {self.username}\")\n",
        "        print(f\"Email: {self.email}\")\n",
        "        print(f\"Location: {self.location}\")\n",
        "\n",
        "    def greet_user(self):\n",
        "        print(f\"Hello, {self.first_name}! Welcome to our platform.\")\n",
        "\n",
        "# Create several instances representing different users\n",
        "user1 = User(\"John\", \"Doe\", \"johndoe123\", \"johndoe@example.com\", \"New York\")\n",
        "user2 = User(\"Jane\", \"Smith\", \"janesmith456\", \"janesmith@example.com\", \"Los Angeles\")\n",
        "user3 = User(\"Alice\", \"Johnson\", \"alicej\", \"alice@example.com\", \"Chicago\")\n",
        "\n",
        "# Call both methods for each user\n",
        "user1.describe_user()\n",
        "user1.greet_user()\n",
        "\n",
        "user2.describe_user()\n",
        "user2.greet_user()\n",
        "\n",
        "user3.describe_user()\n",
        "user3.greet_user()\n",
        ""
      ],
      "metadata": {
        "colab": {
          "base_uri": "https://localhost:8080/"
        },
        "id": "Y0EkPX8hxYaS",
        "outputId": "e5a42364-716d-4302-a17b-72d80a9b980a"
      },
      "execution_count": 10,
      "outputs": [
        {
          "output_type": "stream",
          "name": "stdout",
          "text": [
            "User Profile Information for John Doe:\n",
            "Username: johndoe123\n",
            "Email: johndoe@example.com\n",
            "Location: New York\n",
            "Hello, John! Welcome to our platform.\n",
            "User Profile Information for Jane Smith:\n",
            "Username: janesmith456\n",
            "Email: janesmith@example.com\n",
            "Location: Los Angeles\n",
            "Hello, Jane! Welcome to our platform.\n",
            "User Profile Information for Alice Johnson:\n",
            "Username: alicej\n",
            "Email: alice@example.com\n",
            "Location: Chicago\n",
            "Hello, Alice! Welcome to our platform.\n"
          ]
        }
      ]
    },
    {
      "cell_type": "code",
      "source": [
        "# The Car Class\n",
        "\n",
        "class Car():\n",
        "    \"\"\"A simple attempt to represent a car.\"\"\"\n",
        "\n",
        "    def __init__(self, make, model, year):\n",
        "        \"\"\"Initialize attributes to describe a car.\"\"\"\n",
        "        self.make = make\n",
        "        self.model = model\n",
        "        self.year = year\n",
        "        self.odometer_reading = 0\n",
        "\n",
        "    def get_descriptive_name(self):\n",
        "        \"\"\"Return a neatly formatted descriptive name.\"\"\"\n",
        "        long_name = str(self.year) + ' ' + self.make + ' ' + self.model\n",
        "        return long_name.title()\n",
        "\n",
        "    def read_odometer(self):\n",
        "        \"\"\"Print a statement showing the car's mileage.\"\"\"\n",
        "        print(\"This car has \" + str(self.odometer_reading) + \" miles on it.\")\n",
        "\n",
        "    def update_odometer(self, mileage):\n",
        "        \"\"\"\n",
        "        Set the odometer reading to the given value.\n",
        "        Reject the change if it attempts to roll the odometer back.\n",
        "        \"\"\"\n",
        "        if mileage >= self.odometer_reading:\n",
        "            self.odometer_reading = mileage\n",
        "        else:\n",
        "            print(\"You can't roll back an odometer!\")\n",
        "\n",
        "    def increment_odometer(self, miles):\n",
        "        \"\"\"Add the given amount to the odometer reading.\"\"\"\n",
        "        self.odometer_reading += miles\n",
        "\n",
        "my_new_car = Car('audi', 'a4', 2016)\n",
        "print(my_new_car.get_descriptive_name())\n",
        "my_new_car.read_odometer()\n",
        "\n",
        "my_new_car.update_odometer(23)\n",
        "my_new_car.read_odometer()\n",
        "\n",
        "my_used_car = Car('subaru', 'outback', 2013)\n",
        "print(my_used_car.get_descriptive_name())\n",
        "\n",
        "my_used_car.update_odometer(23500)\n",
        "my_used_car.read_odometer()\n",
        "\n",
        "my_used_car.increment_odometer(100)\n",
        "my_used_car.read_odometer()\n",
        ""
      ],
      "metadata": {
        "colab": {
          "base_uri": "https://localhost:8080/"
        },
        "id": "lr8eV6i4xhr8",
        "outputId": "b4b92ec9-ce7b-4385-c709-2e4411500d5f"
      },
      "execution_count": 11,
      "outputs": [
        {
          "output_type": "stream",
          "name": "stdout",
          "text": [
            "2016 Audi A4\n",
            "This car has 0 miles on it.\n",
            "This car has 23 miles on it.\n",
            "2013 Subaru Outback\n",
            "This car has 23500 miles on it.\n",
            "This car has 23600 miles on it.\n"
          ]
        }
      ]
    },
    {
      "cell_type": "code",
      "source": [
        "my_new_car.odometer_reading = 23\n",
        "my_new_car.read_odometer()\n",
        ""
      ],
      "metadata": {
        "colab": {
          "base_uri": "https://localhost:8080/"
        },
        "id": "iBICVLBxxtvI",
        "outputId": "b8124e3f-c844-4aff-ca87-1cc1639dd607"
      },
      "execution_count": 12,
      "outputs": [
        {
          "output_type": "stream",
          "name": "stdout",
          "text": [
            "This car has 23 miles on it.\n"
          ]
        }
      ]
    },
    {
      "cell_type": "code",
      "source": [
        "class Battery():\n",
        "    \"\"\"A simple attempt to model a battery for an electric car.\"\"\"\n",
        "\n",
        "    def __init__(self, battery_size=70):\n",
        "        \"\"\"Initialize the battery's attributes.\"\"\"\n",
        "        self.battery_size = battery_size\n",
        "\n",
        "    def describe_battery(self):\n",
        "        \"\"\"Print a statement describing the battery size.\"\"\"\n",
        "        print(\"This car has a \" + str(self.battery_size) + \"-kWh battery.\")\n",
        "\n",
        "    def get_range(self):\n",
        "        \"\"\"Print a statement about the range this battery provides.\"\"\"\n",
        "        if self.battery_size == 70:\n",
        "            range = 240\n",
        "        elif self.battery_size == 85:\n",
        "            range = 270\n",
        "\n",
        "        message = \"This car can go approximately \" + str(range)\n",
        "        message += \" miles on a full charge.\"\n",
        "        print(message)\n",
        "\n",
        "class ElectricCar(Car):\n",
        "    \"\"\"Represent aspects of a car, specific to electric vehicles.\"\"\"\n",
        "    def __init__(self, make, model, year):\n",
        "        \"\"\"\n",
        "        Initialize attributes of the parent class.\n",
        "        Then initialize attributes specific to an electric car.\n",
        "        \"\"\"\n",
        "        super().__init__(make, model, year)\n",
        "        self.battery = Battery()\n",
        "\n",
        "    def fill_gas_tank():\n",
        "        \"\"\"Electric cars don't have gas tanks.\"\"\"\n",
        "        print(\"This car doesn't need a gas tank!\")\n",
        "\n",
        "my_tesla = ElectricCar('tesla', 'model s', 2016)\n",
        "\n",
        "print(my_tesla.get_descriptive_name())\n",
        "my_tesla.battery.describe_battery()\n",
        "my_tesla.battery.get_range()"
      ],
      "metadata": {
        "colab": {
          "base_uri": "https://localhost:8080/"
        },
        "id": "1RLWD8wmxxjY",
        "outputId": "f452d34d-a5f8-4a2d-c598-2cfca110a5db"
      },
      "execution_count": 13,
      "outputs": [
        {
          "output_type": "stream",
          "name": "stdout",
          "text": [
            "2016 Tesla Model S\n",
            "This car has a 70-kWh battery.\n",
            "This car can go approximately 240 miles on a full charge.\n"
          ]
        }
      ]
    },
    {
      "cell_type": "code",
      "source": [
        "# 9.6\n",
        "\n",
        "class IceCreamStand(Restaurant):\n",
        "    '''A simple method to make an ice cream stand.'''\n",
        "\n",
        "    def __init__(self, restaurant_name, cuisine_type, flavors):\n",
        "        '''Initialize attributes of the parent class.'''\n",
        "        super().__init__(restaurant_name, cuisine_type)\n",
        "        self.flavors = flavors\n",
        "\n",
        "    def display_flavors(self):\n",
        "        print(f\"{self.restaurant_name.title()} has following flavors available: \")\n",
        "        for flavor in self.flavors:\n",
        "            print(\"> \", flavor)\n",
        "\n",
        "ice_cream_stand = IceCreamStand(\"Cold Stone\", \"Ice Cream\", [\"Vanilla\", \"Chocolate\", \"Strawberry\"])\n",
        "\n",
        "ice_cream_stand.display_flavors()"
      ],
      "metadata": {
        "colab": {
          "base_uri": "https://localhost:8080/"
        },
        "id": "WzP6kO11yFdc",
        "outputId": "537229ca-a828-449e-f4ec-c4421db08b6f"
      },
      "execution_count": 14,
      "outputs": [
        {
          "output_type": "stream",
          "name": "stdout",
          "text": [
            "Cold Stone has following flavors available: \n",
            ">  Vanilla\n",
            ">  Chocolate\n",
            ">  Strawberry\n"
          ]
        }
      ]
    },
    {
      "cell_type": "code",
      "source": [
        "# 9.7\n",
        "\n",
        "class Admin(User):\n",
        "    \"\"\"Creating admin for the user class\"\"\"\n",
        "\n",
        "    def __init__(self, first_name, last_name, username, email, location, privileges):\n",
        "        '''Initialize attributes of the parent class.'''\n",
        "        super().__init__(first_name, last_name, username, email, location)\n",
        "        self.privileges = privileges\n",
        "\n",
        "    def show_privileges(self):\n",
        "        print(f\"{self.first_name} {self.last_name} has following privileges: \")\n",
        "        for privilege in self.privileges:\n",
        "            print(\"-\", privilege)\n",
        "\n",
        "admin = Admin('John', 'Doe', 'johnd', 'john@example.com', 'New York',\n",
        "              ['can add post', 'can delete post', 'can ban user'])\n",
        "\n",
        "admin.show_privileges()"
      ],
      "metadata": {
        "colab": {
          "base_uri": "https://localhost:8080/"
        },
        "id": "x-xKoJOayLqE",
        "outputId": "8e20d8f2-5d7a-42ef-bdb6-d75812025641"
      },
      "execution_count": 15,
      "outputs": [
        {
          "output_type": "stream",
          "name": "stdout",
          "text": [
            "John Doe has following privileges: \n",
            "- can add post\n",
            "- can delete post\n",
            "- can ban user\n"
          ]
        }
      ]
    }
  ]
}