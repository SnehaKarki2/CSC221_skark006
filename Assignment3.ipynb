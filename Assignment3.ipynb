{
  "nbformat": 4,
  "nbformat_minor": 0,
  "metadata": {
    "colab": {
      "provenance": [],
      "authorship_tag": "ABX9TyMRzLaFO+T4Gjqup+IQ8o4Y",
      "include_colab_link": true
    },
    "kernelspec": {
      "name": "python3",
      "display_name": "Python 3"
    },
    "language_info": {
      "name": "python"
    }
  },
  "cells": [
    {
      "cell_type": "markdown",
      "metadata": {
        "id": "view-in-github",
        "colab_type": "text"
      },
      "source": [
        "<a href=\"https://colab.research.google.com/github/SnehaKarki2/CSC221_skark006/blob/main/Assignment3.ipynb\" target=\"_parent\"><img src=\"https://colab.research.google.com/assets/colab-badge.svg\" alt=\"Open In Colab\"/></a>"
      ]
    },
    {
      "cell_type": "code",
      "execution_count": 1,
      "metadata": {
        "colab": {
          "base_uri": "https://localhost:8080/"
        },
        "id": "tTk3bF04k7s6",
        "outputId": "28344da7-e30a-43c1-afab-669bef51e50b"
      },
      "outputs": [
        {
          "output_type": "stream",
          "name": "stdout",
          "text": [
            "Hello, World!\n"
          ]
        }
      ],
      "source": [
        "# Name = Sneha Krki\n",
        "# Assignment 3\n",
        "# Email = skark006@plattsburgh.edu\n",
        "# CSC221A-Intro to Programming\n",
        "\n",
        "# Try it yourself\n",
        "# 2.1\n",
        "\n",
        "message1 = \"Hello, World!\"\n",
        "print(message1)"
      ]
    },
    {
      "cell_type": "code",
      "source": [
        "# 2.2\n",
        "\n",
        "msg1 = \"Let's do some coding\"\n",
        "print(msg1)\n",
        "msg1 = \"Never mind\"\n",
        "print(msg1)"
      ],
      "metadata": {
        "colab": {
          "base_uri": "https://localhost:8080/"
        },
        "id": "-jsgiinOlZ3f",
        "outputId": "38e68266-dd1f-4384-ae1b-2dbd825e25bb"
      },
      "execution_count": 2,
      "outputs": [
        {
          "output_type": "stream",
          "name": "stdout",
          "text": [
            "Let's do some coding\n",
            "Never mind\n"
          ]
        }
      ]
    },
    {
      "cell_type": "code",
      "source": [
        "# 2.3\n",
        "\n",
        "user_name = \"Sneha\"\n",
        "print(f\"Hello {user_name}, would you like to learn some python today?\")"
      ],
      "metadata": {
        "colab": {
          "base_uri": "https://localhost:8080/"
        },
        "id": "pdV6cFCflcTG",
        "outputId": "39363f33-9b90-442b-d6b6-0407043f6ce3"
      },
      "execution_count": 3,
      "outputs": [
        {
          "output_type": "stream",
          "name": "stdout",
          "text": [
            "Hello Sneha, would you like to learn some python today?\n"
          ]
        }
      ]
    },
    {
      "cell_type": "code",
      "source": [
        "# 2.4\n",
        "\n",
        "name = \"sneha\"\n",
        "print(name.lower())\n",
        "print(name.upper())\n",
        "print(name.capitalize())"
      ],
      "metadata": {
        "colab": {
          "base_uri": "https://localhost:8080/"
        },
        "id": "0ExPLtsAlq7a",
        "outputId": "abb9e80a-136b-42e2-dcfb-dd1e557552f3"
      },
      "execution_count": 4,
      "outputs": [
        {
          "output_type": "stream",
          "name": "stdout",
          "text": [
            "sneha\n",
            "SNEHA\n",
            "Sneha\n"
          ]
        }
      ]
    },
    {
      "cell_type": "code",
      "source": [
        "# 2.5\n",
        "\n",
        "print('Nikola Tesla once said, \"I don\\'t care that they stole my idea... \\nI care that they don\\'t have any of their own.\"')"
      ],
      "metadata": {
        "colab": {
          "base_uri": "https://localhost:8080/"
        },
        "id": "gGaRoWRsluS-",
        "outputId": "bd372c2e-8629-4d23-e7a9-1271933e5a7c"
      },
      "execution_count": 5,
      "outputs": [
        {
          "output_type": "stream",
          "name": "stdout",
          "text": [
            "Nikola Tesla once said, \"I don't care that they stole my idea... \n",
            "I care that they don't have any of their own.\"\n"
          ]
        }
      ]
    },
    {
      "cell_type": "code",
      "source": [
        "# 2.6\n",
        "\n",
        "famous_person = \"Nikola Tesla\"\n",
        "message = '\"I don\\'t care that they stole my idea... \\nI care that they don\\'t have any of their own.\"'\n",
        "print(f\"{famous_person} once said, {message}\")"
      ],
      "metadata": {
        "colab": {
          "base_uri": "https://localhost:8080/"
        },
        "id": "9XHOv_Ual5m4",
        "outputId": "d6b5d99a-c533-4a8d-f4df-436352f8290e"
      },
      "execution_count": 6,
      "outputs": [
        {
          "output_type": "stream",
          "name": "stdout",
          "text": [
            "Nikola Tesla once said, \"I don't care that they stole my idea... \n",
            "I care that they don't have any of their own.\"\n"
          ]
        }
      ]
    },
    {
      "cell_type": "code",
      "source": [
        "# 2.7\n",
        "\n",
        "name2 = \"   sneha   \"\n",
        "print(name2)\n",
        "print(name2.lstrip())\n",
        "print(name2.rstrip())\n",
        "print(name.strip())"
      ],
      "metadata": {
        "colab": {
          "base_uri": "https://localhost:8080/"
        },
        "id": "jjJgcEJxl_8-",
        "outputId": "c03bb047-e3fc-468f-f58a-25d2b6c07e26"
      },
      "execution_count": 7,
      "outputs": [
        {
          "output_type": "stream",
          "name": "stdout",
          "text": [
            "   sneha   \n",
            "sneha   \n",
            "   sneha\n",
            "sneha\n"
          ]
        }
      ]
    },
    {
      "cell_type": "code",
      "source": [
        "# 2.8 and 2.10\n",
        "# name = sneha\n",
        "# date = mon, feb 12\n",
        "# this program does addition, subtraction, multiplication and division to get exact value of 8\n",
        "\n",
        "print(5 + 3)\n",
        "print(10 - 2)\n",
        "print(4 * 2)\n",
        "print(32 / 4)"
      ],
      "metadata": {
        "colab": {
          "base_uri": "https://localhost:8080/"
        },
        "id": "_0k2n5mMmK9w",
        "outputId": "8bad0ce5-4a14-4356-e508-ace393861d24"
      },
      "execution_count": 8,
      "outputs": [
        {
          "output_type": "stream",
          "name": "stdout",
          "text": [
            "8\n",
            "8\n",
            "8\n",
            "8.0\n"
          ]
        }
      ]
    },
    {
      "cell_type": "code",
      "source": [
        "# 2.9\n",
        "fav_number = 7\n",
        "print(\"My favorite number is \" + str(fav_number))"
      ],
      "metadata": {
        "colab": {
          "base_uri": "https://localhost:8080/"
        },
        "id": "x4vP2QK-mLAd",
        "outputId": "d9f53894-7e71-4f0b-d2bf-d97943583ae9"
      },
      "execution_count": 9,
      "outputs": [
        {
          "output_type": "stream",
          "name": "stdout",
          "text": [
            "My favorite number is 7\n"
          ]
        }
      ]
    }
  ]
}