{
  "nbformat": 4,
  "nbformat_minor": 0,
  "metadata": {
    "colab": {
      "provenance": [],
      "authorship_tag": "ABX9TyOu9cX0Fknvy7mZft/AjYDp",
      "include_colab_link": true
    },
    "kernelspec": {
      "name": "python3",
      "display_name": "Python 3"
    },
    "language_info": {
      "name": "python"
    }
  },
  "cells": [
    {
      "cell_type": "markdown",
      "metadata": {
        "id": "view-in-github",
        "colab_type": "text"
      },
      "source": [
        "<a href=\"https://colab.research.google.com/github/SnehaKarki2/CSC221_skark006/blob/main/Assignment4.ipynb\" target=\"_parent\"><img src=\"https://colab.research.google.com/assets/colab-badge.svg\" alt=\"Open In Colab\"/></a>"
      ]
    },
    {
      "cell_type": "code",
      "execution_count": 1,
      "metadata": {
        "colab": {
          "base_uri": "https://localhost:8080/"
        },
        "id": "8V6mKhs80LZ0",
        "outputId": "ac69d62f-e2ed-484a-947f-8e897ee27f4a"
      },
      "outputs": [
        {
          "output_type": "stream",
          "name": "stdout",
          "text": [
            "Krishdeep\n",
            "Mancka\n",
            "Mai\n",
            "Sandesh\n"
          ]
        }
      ],
      "source": [
        "# Name = Sneha Karki\n",
        "# Assignment 4\n",
        "# Email = skark006@plattsburgh.edu\n",
        "# CSC221A-Intro to Programming\n",
        "\n",
        "# Try it yourself\n",
        "# 3.1\n",
        "friend_lst1 = ['Krishdeep', 'Mancka', 'Mai', 'Sandesh']\n",
        "print(friend_lst1[0])\n",
        "print(friend_lst1[1])\n",
        "print(friend_lst1[2])\n",
        "print(friend_lst1[3])\n"
      ]
    },
    {
      "cell_type": "code",
      "source": [
        "# 3.2\n",
        "for i in range(len(friend_lst1)):\n",
        "  print(f\"How you doing {friend_lst1[i].title()}?\")\n",
        ""
      ],
      "metadata": {
        "colab": {
          "base_uri": "https://localhost:8080/"
        },
        "id": "yDR2b61o4enG",
        "outputId": "3a5210b8-47b7-4037-856d-0d4b89a926b0"
      },
      "execution_count": 2,
      "outputs": [
        {
          "output_type": "stream",
          "name": "stdout",
          "text": [
            "How you doing Krishdeep?\n",
            "How you doing Mancka?\n",
            "How you doing Mai?\n",
            "How you doing Sandesh?\n"
          ]
        }
      ]
    },
    {
      "cell_type": "code",
      "source": [
        "# 3.3\n",
        "vehicle_lst1 = ['honda civic', 'nissan altima', 'honda accord', 'toyota camry', 'lamborgini hurrican', 'lamborgini diablo', 'mercedes benz']\n",
        "for i in range(len(vehicle_lst1)):\n",
        "  print(f\"I want to ride {vehicle_lst1[i].title()} one day!\")"
      ],
      "metadata": {
        "colab": {
          "base_uri": "https://localhost:8080/"
        },
        "id": "3r6yPnG54rly",
        "outputId": "6a5f859e-1882-49d4-c44d-a1bb871b9e8a"
      },
      "execution_count": 3,
      "outputs": [
        {
          "output_type": "stream",
          "name": "stdout",
          "text": [
            "I want to ride Honda Civic one day!\n",
            "I want to ride Nissan Altima one day!\n",
            "I want to ride Honda Accord one day!\n",
            "I want to ride Toyota Camry one day!\n",
            "I want to ride Lamborgini Hurrican one day!\n",
            "I want to ride Lamborgini Diablo one day!\n",
            "I want to ride Mercedes Benz one day!\n"
          ]
        }
      ]
    },
    {
      "cell_type": "code",
      "source": [
        "# 3.4 and 3.5\n",
        "friend_lst2 = ['danny', 'jhon', 'don']\n",
        "for i in range(len(friend_lst2)):\n",
        "  print(f\"{friend_lst2[i].title()}, you are invited to the dinner party being held in my house!\")\n",
        "\n",
        "friend_not_coming = 'don'\n",
        "print(f\"{friend_not_coming.title()} cannot make it to the party.\")\n",
        "\n",
        "friend_lst2.pop(2)\n",
        "for i in range(len(friend_lst2)):\n",
        "  print(f\"{friend_lst2[i].title()}, you are invited to the dinner party being held in my house!\")"
      ],
      "metadata": {
        "colab": {
          "base_uri": "https://localhost:8080/"
        },
        "id": "sPtcMQWJ4u8V",
        "outputId": "c46dcee0-0661-472b-fae6-3aeb57103014"
      },
      "execution_count": 4,
      "outputs": [
        {
          "output_type": "stream",
          "name": "stdout",
          "text": [
            "Danny, you are invited to the dinner party being held in my house!\n",
            "Jhon, you are invited to the dinner party being held in my house!\n",
            "Don, you are invited to the dinner party being held in my house!\n",
            "Don cannot make it to the party.\n",
            "Danny, you are invited to the dinner party being held in my house!\n",
            "Jhon, you are invited to the dinner party being held in my house!\n"
          ]
        }
      ]
    },
    {
      "cell_type": "code",
      "source": [],
      "metadata": {
        "id": "j2xgMeYTDhT0"
      },
      "execution_count": null,
      "outputs": []
    },
    {
      "cell_type": "code",
      "source": [],
      "metadata": {
        "id": "PcZdyDmsDizO"
      },
      "execution_count": null,
      "outputs": []
    },
    {
      "cell_type": "code",
      "source": [
        "# 3.6\n",
        "friend_lst2 = ['danny', 'jhon']\n",
        "friend_lst2.insert(0, 'james')\n",
        "friend_lst2.insert(2, 'jean')\n",
        "friend_lst2.append('nikki')\n",
        "for i in range(len(friend_lst2)):\n",
        "  print(f\"{friend_lst2[i].title()}, you are invited to the dinner party being held in my house!\")\n",
        "\n",
        "print(friend_lst2)\n",
        ""
      ],
      "metadata": {
        "colab": {
          "base_uri": "https://localhost:8080/"
        },
        "id": "mZ6n9qRg8CQC",
        "outputId": "894f9abf-457a-4672-b700-ecd8d6ec47df"
      },
      "execution_count": 5,
      "outputs": [
        {
          "output_type": "stream",
          "name": "stdout",
          "text": [
            "James, you are invited to the dinner party being held in my house!\n",
            "Danny, you are invited to the dinner party being held in my house!\n",
            "Jean, you are invited to the dinner party being held in my house!\n",
            "Jhon, you are invited to the dinner party being held in my house!\n",
            "Nikki, you are invited to the dinner party being held in my house!\n",
            "['james', 'danny', 'jean', 'jhon', 'nikki']\n"
          ]
        }
      ]
    },
    {
      "cell_type": "code",
      "source": [
        "# 3.7\n",
        "friend_lst2 = ['james', 'danny', 'jean', 'jhon', 'nikki']\n",
        "print(\"I can invite only two people for dinner\")\n",
        "friendRemoved1 = friend_lst2.pop(1)\n",
        "print(f\"I'm sorry I can't ivite you to to dinner, {friendRemoved1.title()} :(\")\n",
        "friendRemoved2 = friend_lst2.pop(3)\n",
        "print(f\"I'm sorry I can't ivite you to to dinner, {friendRemoved2.title()} :(\")\n",
        "friendRemoved3 = friend_lst2.pop(2)\n",
        "print(f\"I'm sorry I can't ivite you to to dinner, {friendRemoved3.title()} :(\")\n",
        "\n",
        "for friend in friend_lst2:\n",
        "  print(f\"{friend.title()} Your are still invited\")\n",
        "\n",
        "del friend_lst2[0]\n",
        "del friend_lst2[0]\n",
        "print(friend_lst2)"
      ],
      "metadata": {
        "colab": {
          "base_uri": "https://localhost:8080/"
        },
        "id": "WcyWPAOY-Ac0",
        "outputId": "14a86691-8dbf-4346-a2e0-4677c93dd7fa"
      },
      "execution_count": 6,
      "outputs": [
        {
          "output_type": "stream",
          "name": "stdout",
          "text": [
            "I can invite only two people for dinner\n",
            "I'm sorry I can't ivite you to to dinner, Danny :(\n",
            "I'm sorry I can't ivite you to to dinner, Nikki :(\n",
            "I'm sorry I can't ivite you to to dinner, Jhon :(\n",
            "James Your are still invited\n",
            "Jean Your are still invited\n",
            "[]\n"
          ]
        }
      ]
    },
    {
      "cell_type": "code",
      "source": [
        "# 3.8\n",
        "placesToVisit = ['france', 'italy', 'canada', 'maldives', 'singapore', 'switzerland']\n",
        "print(placesToVisit)\n",
        "\n",
        "# Prints the sorted list\n",
        "print(sorted(placesToVisit))\n",
        "\n",
        "# Prints the reverse list\n",
        "placesToVisit.reverse()\n",
        "print(placesToVisit)\n",
        "\n",
        "# Reverse again to get the original list\n",
        "placesToVisit.reverse()\n",
        "print(placesToVisit)\n",
        "\n",
        "# Using the sort() method to get alphabetical order\n",
        "placesToVisit.sort()\n",
        "print(placesToVisit)\n",
        "\n",
        "# Using the sort() method to get reverse alphabetical order\n",
        "placesToVisit.sort(reverse = True)\n",
        "print(placesToVisit)"
      ],
      "metadata": {
        "colab": {
          "base_uri": "https://localhost:8080/"
        },
        "id": "mGvGDfP4_mkS",
        "outputId": "7b1b1b9b-2bc7-409b-97b2-ce5b1587162f"
      },
      "execution_count": 7,
      "outputs": [
        {
          "output_type": "stream",
          "name": "stdout",
          "text": [
            "['france', 'italy', 'canada', 'maldives', 'singapore', 'switzerland']\n",
            "['canada', 'france', 'italy', 'maldives', 'singapore', 'switzerland']\n",
            "['switzerland', 'singapore', 'maldives', 'canada', 'italy', 'france']\n",
            "['france', 'italy', 'canada', 'maldives', 'singapore', 'switzerland']\n",
            "['canada', 'france', 'italy', 'maldives', 'singapore', 'switzerland']\n",
            "['switzerland', 'singapore', 'maldives', 'italy', 'france', 'canada']\n"
          ]
        }
      ]
    },
    {
      "cell_type": "code",
      "source": [
        "#3.9\n",
        "friend_lst2 = ['danny', 'jhon', 'don']\n",
        "\n",
        "\n",
        "for i in range(len(friend_lst2)):\n",
        "    print(f\"{friend_lst2[i].title()}, you are invited to the dinner party being held in my house!\")\n",
        "\n",
        "\n",
        "friend_not_coming = 'don'\n",
        "print(f\"\\n{friend_not_coming.title()} cannot make it to the party.\")\n",
        "\n",
        "\n",
        "friend_lst2.pop(2)\n",
        "print(\"\\nUpdated invitations:\")\n",
        "for i in range(len(friend_lst2)):\n",
        "    print(f\"{friend_lst2[i].title()}, you are invited to the dinner party being held in my house!\")\n",
        "\n",
        "print(f\"\\nNumber of people invited to dinner: {len(friend_lst2)}\")\n"
      ],
      "metadata": {
        "colab": {
          "base_uri": "https://localhost:8080/"
        },
        "id": "GAQ8jt0dDm_p",
        "outputId": "19454599-ca7d-4184-84b7-2c9c3e2cd62c"
      },
      "execution_count": 8,
      "outputs": [
        {
          "output_type": "stream",
          "name": "stdout",
          "text": [
            "Danny, you are invited to the dinner party being held in my house!\n",
            "Jhon, you are invited to the dinner party being held in my house!\n",
            "Don, you are invited to the dinner party being held in my house!\n",
            "\n",
            "Don cannot make it to the party.\n",
            "\n",
            "Updated invitations:\n",
            "Danny, you are invited to the dinner party being held in my house!\n",
            "Jhon, you are invited to the dinner party being held in my house!\n",
            "\n",
            "Number of people invited to dinner: 2\n"
          ]
        }
      ]
    },
    {
      "cell_type": "code",
      "source": [
        "#3.10\n",
        "countries = ['Japan', 'Canada', 'Germany', 'Australia', 'France']\n",
        "\n",
        "print(\"Accessing Elements in a List:\")\n",
        "print(f\"The first country in the list is: {countries[0]}\")\n",
        "print(f\"The third country in the list is: {countries[2]}\")\n",
        "\n",
        "countries.append('Brazil')\n",
        "print(\"\\nAfter adding Brazil to the list:\")\n",
        "print(countries)\n",
        "\n",
        "\n",
        "countries.insert(2, 'India')\n",
        "print(\"\\nAfter inserting India at position 2:\")\n",
        "print(countries)\n",
        "\n",
        "del countries[3]\n",
        "print(\"\\nAfter removing the fourth country (Germany):\")\n",
        "print(countries)\n",
        "\n",
        "popped_country = countries.pop()\n",
        "print(f\"\\nAfter popping the last country ({popped_country}):\")\n",
        "print(countries)\n",
        "\n",
        "countries.remove('India')\n",
        "print(\"\\nAfter removing India by value:\")\n",
        "print(countries)\n",
        "\n",
        "\n",
        "print(\"\\nFinal list of countries:\")\n",
        "print(countries)\n"
      ],
      "metadata": {
        "colab": {
          "base_uri": "https://localhost:8080/"
        },
        "id": "0IE14d6DEpnS",
        "outputId": "1aab33af-14e5-4300-adcc-ffd0911049d5"
      },
      "execution_count": 9,
      "outputs": [
        {
          "output_type": "stream",
          "name": "stdout",
          "text": [
            "Accessing Elements in a List:\n",
            "The first country in the list is: Japan\n",
            "The third country in the list is: Germany\n",
            "\n",
            "After adding Brazil to the list:\n",
            "['Japan', 'Canada', 'Germany', 'Australia', 'France', 'Brazil']\n",
            "\n",
            "After inserting India at position 2:\n",
            "['Japan', 'Canada', 'India', 'Germany', 'Australia', 'France', 'Brazil']\n",
            "\n",
            "After removing the fourth country (Germany):\n",
            "['Japan', 'Canada', 'India', 'Australia', 'France', 'Brazil']\n",
            "\n",
            "After popping the last country (Brazil):\n",
            "['Japan', 'Canada', 'India', 'Australia', 'France']\n",
            "\n",
            "After removing India by value:\n",
            "['Japan', 'Canada', 'Australia', 'France']\n",
            "\n",
            "Final list of countries:\n",
            "['Japan', 'Canada', 'Australia', 'France']\n"
          ]
        }
      ]
    },
    {
      "cell_type": "code",
      "source": [],
      "metadata": {
        "id": "cepRxUeVGqWB"
      },
      "execution_count": null,
      "outputs": []
    }
  ]
}