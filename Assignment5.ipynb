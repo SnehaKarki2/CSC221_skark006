{
  "nbformat": 4,
  "nbformat_minor": 0,
  "metadata": {
    "colab": {
      "provenance": [],
      "authorship_tag": "ABX9TyO2a7IkPdXpciqAnjvYmT0H",
      "include_colab_link": true
    },
    "kernelspec": {
      "name": "python3",
      "display_name": "Python 3"
    },
    "language_info": {
      "name": "python"
    }
  },
  "cells": [
    {
      "cell_type": "markdown",
      "metadata": {
        "id": "view-in-github",
        "colab_type": "text"
      },
      "source": [
        "<a href=\"https://colab.research.google.com/github/SnehaKarki2/CSC221_skark006/blob/main/Assignment5.ipynb\" target=\"_parent\"><img src=\"https://colab.research.google.com/assets/colab-badge.svg\" alt=\"Open In Colab\"/></a>"
      ]
    },
    {
      "cell_type": "code",
      "execution_count": 1,
      "metadata": {
        "colab": {
          "base_uri": "https://localhost:8080/"
        },
        "id": "0IECK_PwIwjd",
        "outputId": "529968b3-8bd3-4130-f858-5a60e3e73f20"
      },
      "outputs": [
        {
          "output_type": "stream",
          "name": "stdout",
          "text": [
            "I love Pepperoni pizza.\n",
            "I love Buffalo Chicken pizza.\n",
            "I love Vegetable pizza.\n",
            "I really love pizza!\n"
          ]
        }
      ],
      "source": [
        "# Name = Sneha Karki\n",
        "# Assignment 5\n",
        "# Email = skark006@plattsburgh.edu\n",
        "# CSC221A-Intro to Programming\n",
        "\n",
        "# 4.1\n",
        "pizza_list = ['pepperoni', 'buffalo chicken', 'vegetable']\n",
        "for pizza in pizza_list:\n",
        "  print(f\"I love {pizza.title()} pizza.\")\n",
        "\n",
        "print(\"I really love pizza!\")\n",
        ""
      ]
    },
    {
      "cell_type": "code",
      "source": [
        "# 4.2 Same as 4.1 so skipped\n",
        "# 4.3 and 4.4 similar I am making list for one million\n",
        "million_list = list(range(1, 1000001))\n",
        "# for number in million_list:\n",
        "  # print(number)\n",
        "\n",
        "# 4.5\n",
        "print(min(million_list))\n",
        "print(max(million_list))\n",
        "print(sum(million_list))"
      ],
      "metadata": {
        "colab": {
          "base_uri": "https://localhost:8080/"
        },
        "id": "aCL1yKaFJcxG",
        "outputId": "b12e175c-86e2-4fd7-e437-401ef3c36c23"
      },
      "execution_count": 2,
      "outputs": [
        {
          "output_type": "stream",
          "name": "stdout",
          "text": [
            "1\n",
            "1000000\n",
            "500000500000\n"
          ]
        }
      ]
    },
    {
      "cell_type": "code",
      "source": [
        "# 4.6\n",
        "odd_number_list = list(range(1, 20, 2))\n",
        "# print(odd_number_list)\n",
        "for odd_number in odd_number_list :\n",
        "  print(odd_number)"
      ],
      "metadata": {
        "colab": {
          "base_uri": "https://localhost:8080/"
        },
        "id": "heM55KS3JyVc",
        "outputId": "371249e8-212c-41f7-e157-d1ef3313bffb"
      },
      "execution_count": 3,
      "outputs": [
        {
          "output_type": "stream",
          "name": "stdout",
          "text": [
            "1\n",
            "3\n",
            "5\n",
            "7\n",
            "9\n",
            "11\n",
            "13\n",
            "15\n",
            "17\n",
            "19\n"
          ]
        }
      ]
    },
    {
      "cell_type": "code",
      "source": [
        "# 4.7\n",
        "multiples_of_three = list(range(3, 31, 3))\n",
        "for multiple in multiples_of_three:\n",
        "  print(multiple)"
      ],
      "metadata": {
        "colab": {
          "base_uri": "https://localhost:8080/"
        },
        "id": "OCQT-PETJ3Qf",
        "outputId": "74a487d8-dc84-43f7-9ae0-a86e76260155"
      },
      "execution_count": 4,
      "outputs": [
        {
          "output_type": "stream",
          "name": "stdout",
          "text": [
            "3\n",
            "6\n",
            "9\n",
            "12\n",
            "15\n",
            "18\n",
            "21\n",
            "24\n",
            "27\n",
            "30\n"
          ]
        }
      ]
    },
    {
      "cell_type": "code",
      "source": [
        "# 4.8\n",
        "cubes_list = []\n",
        "for cube in range(1, 11):\n",
        "  value = cube**3\n",
        "  print(value)\n",
        "  cubes_list.append(value)\n",
        "\n",
        ""
      ],
      "metadata": {
        "colab": {
          "base_uri": "https://localhost:8080/"
        },
        "id": "hjw0g-kbKPL0",
        "outputId": "edf8ba7f-33c2-40d9-e0c7-320d629f5640"
      },
      "execution_count": 5,
      "outputs": [
        {
          "output_type": "stream",
          "name": "stdout",
          "text": [
            "1\n",
            "8\n",
            "27\n",
            "64\n",
            "125\n",
            "216\n",
            "343\n",
            "512\n",
            "729\n",
            "1000\n"
          ]
        }
      ]
    },
    {
      "cell_type": "code",
      "source": [
        "# 4.9\n",
        "cubes_list2 = [x ** 3 for x in range(1, 11)]\n",
        "print(cubes_list2)"
      ],
      "metadata": {
        "colab": {
          "base_uri": "https://localhost:8080/"
        },
        "id": "aGFrmHKAKcj_",
        "outputId": "bc68aa9e-8b52-42c5-ca05-4c08ea880d72"
      },
      "execution_count": 6,
      "outputs": [
        {
          "output_type": "stream",
          "name": "stdout",
          "text": [
            "[1, 8, 27, 64, 125, 216, 343, 512, 729, 1000]\n"
          ]
        }
      ]
    },
    {
      "cell_type": "code",
      "source": [
        "# 4.10\n",
        "print(f\"{cubes_list2[:3]} are the first three items in the list.\")\n",
        "print(f\"{cubes_list2[4:7]} are the middle three items in the list.\")\n",
        "print(f\"{cubes_list2[7:]} are the last three items in the list.\")\n",
        ""
      ],
      "metadata": {
        "colab": {
          "base_uri": "https://localhost:8080/"
        },
        "id": "AawVspQpKhF0",
        "outputId": "b638e6d0-ce06-457f-bc42-25e0676e6643"
      },
      "execution_count": 7,
      "outputs": [
        {
          "output_type": "stream",
          "name": "stdout",
          "text": [
            "[1, 8, 27] are the first three items in the list.\n",
            "[125, 216, 343] are the middle three items in the list.\n",
            "[512, 729, 1000] are the last three items in the list.\n"
          ]
        }
      ]
    },
    {
      "cell_type": "code",
      "source": [
        "# 4.11\n",
        "pizza_list = ['pepperoni', 'buffalo chicken', 'vegetable']\n",
        "friends_pizza_list = pizza_list[:]\n",
        "pizza_list.append('onion')\n",
        "friends_pizza_list.append('cheese')\n",
        "print(f\"My favorite pizzas are {pizza_list}\")\n",
        "print(f\"My freind's favorite pizzas are {friends_pizza_list}\")"
      ],
      "metadata": {
        "colab": {
          "base_uri": "https://localhost:8080/"
        },
        "id": "0kgmDRmWKmwX",
        "outputId": "b7146152-15e8-4f77-8664-12d782d0b555"
      },
      "execution_count": 8,
      "outputs": [
        {
          "output_type": "stream",
          "name": "stdout",
          "text": [
            "My favorite pizzas are ['pepperoni', 'buffalo chicken', 'vegetable', 'onion']\n",
            "My freind's favorite pizzas are ['pepperoni', 'buffalo chicken', 'vegetable', 'cheese']\n"
          ]
        }
      ]
    },
    {
      "cell_type": "code",
      "source": [
        "''' 4.12 I say use for loop to print the foods and as I have already used for\n",
        "loop so I'm skipping this. '''"
      ],
      "metadata": {
        "colab": {
          "base_uri": "https://localhost:8080/",
          "height": 36
        },
        "id": "aFKWZfwqKtGe",
        "outputId": "5e425111-d731-4d81-9c46-d1fce16bfd6e"
      },
      "execution_count": 9,
      "outputs": [
        {
          "output_type": "execute_result",
          "data": {
            "text/plain": [
              "\" 4.12 I say use for loop to print the foods and as I have already used for\\nloop so I'm skipping this. \""
            ],
            "application/vnd.google.colaboratory.intrinsic+json": {
              "type": "string"
            }
          },
          "metadata": {},
          "execution_count": 9
        }
      ]
    },
    {
      "cell_type": "code",
      "source": [
        "# 4.13\n",
        "buffet = ('rice', 'vegetable curry', 'lamb curry', 'chicken curry')\n",
        "for food in buffet:\n",
        "  print(food.title())\n",
        "\n",
        "# buffet[0] = 'naan'\n",
        "# print(buffet)\n",
        "\n",
        "buffet = ('naan', 'vegetable curry', 'paneer tikka', 'chicken curry')\n",
        "print(\"\\nRevised Menu:\")\n",
        "for food in buffet:\n",
        "  print(food.title())"
      ],
      "metadata": {
        "colab": {
          "base_uri": "https://localhost:8080/"
        },
        "id": "BCizxoaHKzc1",
        "outputId": "37df9bcf-e440-460d-ebfa-d9a49de3edc1"
      },
      "execution_count": 10,
      "outputs": [
        {
          "output_type": "stream",
          "name": "stdout",
          "text": [
            "Rice\n",
            "Vegetable Curry\n",
            "Lamb Curry\n",
            "Chicken Curry\n",
            "\n",
            "Revised Menu:\n",
            "Naan\n",
            "Vegetable Curry\n",
            "Paneer Tikka\n",
            "Chicken Curry\n"
          ]
        }
      ]
    },
    {
      "cell_type": "code",
      "source": [
        "def factorial(num) :\n",
        "  list_for_loop = [x for x in range(1, num+1)]\n",
        "  # print(list_for_loop)\n",
        "  fact = 1\n",
        "  for i in list_for_loop :\n",
        "    fact *= i\n",
        "\n",
        "  return fact\n",
        "\n",
        "print(factorial(5))\n",
        "print(factorial(10))\n",
        "print(factorial(20))\n",
        "print(factorial(50))"
      ],
      "metadata": {
        "colab": {
          "base_uri": "https://localhost:8080/"
        },
        "id": "eXCb3czQK1-Y",
        "outputId": "fb97f152-bea2-4e2a-e782-dc45ebc807ba"
      },
      "execution_count": 11,
      "outputs": [
        {
          "output_type": "stream",
          "name": "stdout",
          "text": [
            "120\n",
            "3628800\n",
            "2432902008176640000\n",
            "30414093201713378043612608166064768844377641568960512000000000000\n"
          ]
        }
      ]
    },
    {
      "cell_type": "code",
      "source": [
        "# Special Factorial\n",
        "def special_factorial(num) :\n",
        "  list_for_loop = [x for x in range(1, num+1)]\n",
        "  # print(list_for_loop)\n",
        "  fact = 1\n",
        "  for i in list_for_loop :\n",
        "    if i != 4 and i != 13 and i != 22 : # remove 4, 13, 22\n",
        "      fact *= i\n",
        "\n",
        "  return fact\n",
        "\n",
        "print(special_factorial(5))\n",
        "print(special_factorial(10))\n",
        "print(special_factorial(20))\n",
        "print(special_factorial(50))"
      ],
      "metadata": {
        "colab": {
          "base_uri": "https://localhost:8080/"
        },
        "id": "Z9sIF7-PLD_a",
        "outputId": "b251b0c1-696a-48ea-967a-22753b2300e9"
      },
      "execution_count": 12,
      "outputs": [
        {
          "output_type": "stream",
          "name": "stdout",
          "text": [
            "30\n",
            "907200\n",
            "46786577080320000\n",
            "26585745805693512275885146998308364374455980392448000000000000\n"
          ]
        }
      ]
    }
  ]
}