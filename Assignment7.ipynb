{
  "nbformat": 4,
  "nbformat_minor": 0,
  "metadata": {
    "colab": {
      "provenance": [],
      "authorship_tag": "ABX9TyNkqosx7MhjETi+81gcM7zO",
      "include_colab_link": true
    },
    "kernelspec": {
      "name": "python3",
      "display_name": "Python 3"
    },
    "language_info": {
      "name": "python"
    }
  },
  "cells": [
    {
      "cell_type": "markdown",
      "metadata": {
        "id": "view-in-github",
        "colab_type": "text"
      },
      "source": [
        "<a href=\"https://colab.research.google.com/github/SnehaKarki2/CSC221_skark006/blob/main/Assignment7.ipynb\" target=\"_parent\"><img src=\"https://colab.research.google.com/assets/colab-badge.svg\" alt=\"Open In Colab\"/></a>"
      ]
    },
    {
      "cell_type": "code",
      "execution_count": 10,
      "metadata": {
        "colab": {
          "base_uri": "https://localhost:8080/"
        },
        "id": "9pL51_lEWOGN",
        "outputId": "ae685976-83ff-488d-b656-0f498abb1732"
      },
      "outputs": [
        {
          "output_type": "stream",
          "name": "stdout",
          "text": [
            "{'first_name': 'Bishal', 'last_name': 'Shrestha', 'age': 20, 'city': 'New York'}\n"
          ]
        }
      ],
      "source": [
        "#Name = Abishek Subedi\n",
        "# Assignment 7\n",
        "# Email = skark006@plattsburgh.edu\n",
        "# CSC221A - Intro to Programming\n",
        "\n",
        "# 6.1\n",
        "person = {\n",
        "    \"first_name\": \"Bishal\",\n",
        "    \"last_name\": \"Shrestha\",\n",
        "    \"age\": 20,\n",
        "    \"city\": \"New York\"\n",
        "}\n",
        "\n",
        "print(person)"
      ]
    },
    {
      "cell_type": "code",
      "source": [
        "# 6.2\n",
        "fav_number = {\n",
        "    \"harry\": 7,\n",
        "    \"john\": 6,\n",
        "    \"ned\": 22,\n",
        "    \"lucy\": 2,\n",
        "    \"gabi\": 9\n",
        "}\n",
        "print(fav_number)"
      ],
      "metadata": {
        "colab": {
          "base_uri": "https://localhost:8080/"
        },
        "id": "kfsnCFgrWis9",
        "outputId": "33c8ab35-13a1-4223-b195-7dff8fe50a7c"
      },
      "execution_count": 2,
      "outputs": [
        {
          "output_type": "stream",
          "name": "stdout",
          "text": [
            "{'harry': 7, 'john': 6, 'ned': 22, 'lucy': 2, 'gabi': 9}\n"
          ]
        }
      ]
    },
    {
      "cell_type": "code",
      "source": [
        "glossary = {\n",
        "    'Variable': 'A container to store data values.',\n",
        "    'Function': 'A block of reusable code that performs a specific task.',\n",
        "    'List': 'An ordered collection of items that can be modified.',\n",
        "    'Conditional Statement': 'A statement that executes different code based on a condition.',\n",
        "    'Loop': 'A control structure that repeats a block of code until a condition is met or for a specified number of times.'\n",
        "}\n",
        "\n",
        "for word, meaning in glossary.items():\n",
        "    print(f\"> {word}: {meaning}\\n\")"
      ],
      "metadata": {
        "colab": {
          "base_uri": "https://localhost:8080/"
        },
        "id": "RSoD3pjPWi-G",
        "outputId": "f7e70c2a-5717-4626-c2b7-26cf42cd4032"
      },
      "execution_count": 3,
      "outputs": [
        {
          "output_type": "stream",
          "name": "stdout",
          "text": [
            "> Variable: A container to store data values.\n",
            "\n",
            "> Function: A block of reusable code that performs a specific task.\n",
            "\n",
            "> List: An ordered collection of items that can be modified.\n",
            "\n",
            "> Conditional Statement: A statement that executes different code based on a condition.\n",
            "\n",
            "> Loop: A control structure that repeats a block of code until a condition is met or for a specified number of times.\n",
            "\n"
          ]
        }
      ]
    },
    {
      "cell_type": "code",
      "source": [
        "# 6.4\n",
        "# Add five more Python terms to the glossary\n",
        "glossary['Tuple'] = 'An ordered, immutable collection of items.'\n",
        "glossary['Dictionary'] = 'A collection of key-value pairs.'\n",
        "glossary['Module'] = 'A file containing Python code that can be imported and reused.'\n",
        "glossary['String'] = 'A sequence of characters.'\n",
        "glossary['Exception'] = 'An error that occurs during program execution.'\n",
        "\n",
        "for word, meaning in glossary.items():\n",
        "    print(f\"> {word}: {meaning}\\n\")"
      ],
      "metadata": {
        "colab": {
          "base_uri": "https://localhost:8080/"
        },
        "id": "DCN23eFSWjHk",
        "outputId": "d425a6e6-412d-4743-b188-d8886c8236bc"
      },
      "execution_count": 4,
      "outputs": [
        {
          "output_type": "stream",
          "name": "stdout",
          "text": [
            "> Variable: A container to store data values.\n",
            "\n",
            "> Function: A block of reusable code that performs a specific task.\n",
            "\n",
            "> List: An ordered collection of items that can be modified.\n",
            "\n",
            "> Conditional Statement: A statement that executes different code based on a condition.\n",
            "\n",
            "> Loop: A control structure that repeats a block of code until a condition is met or for a specified number of times.\n",
            "\n",
            "> Tuple: An ordered, immutable collection of items.\n",
            "\n",
            "> Dictionary: A collection of key-value pairs.\n",
            "\n",
            "> Module: A file containing Python code that can be imported and reused.\n",
            "\n",
            "> String: A sequence of characters.\n",
            "\n",
            "> Exception: An error that occurs during program execution.\n",
            "\n"
          ]
        }
      ]
    },
    {
      "cell_type": "code",
      "source": [
        "# 6.11\n",
        "cities = {\n",
        "    'New York': {\n",
        "        'country': 'United States',\n",
        "        'population': 8398748,\n",
        "        'fact': 'The Statue of Liberty is located in New York Harbor.'\n",
        "    },\n",
        "    'Paris': {\n",
        "        'country': 'France',\n",
        "        'population': 2148271,\n",
        "        'fact': 'The Eiffel Tower is a famous landmark in Paris.'\n",
        "    },\n",
        "    'Tokyo': {\n",
        "        'country': 'Japan',\n",
        "        'population': 13929286,\n",
        "        'fact': 'Tokyo is the largest city in Japan and one of the most populous metropolitan areas in the world.'\n",
        "    }\n",
        "}\n",
        "\n",
        "for city, info in cities.items():\n",
        "    print(f\"City: {city}\")\n",
        "    print(f\"Country: {info['country']}\")\n",
        "    print(f\"Population: {info['population']}\")\n",
        "    print(f\"Fact: {info['fact']}\\n\")"
      ],
      "metadata": {
        "colab": {
          "base_uri": "https://localhost:8080/"
        },
        "id": "l8MMi2kmWjQS",
        "outputId": "156525fa-958d-484f-855c-0d4fea68e7da"
      },
      "execution_count": 5,
      "outputs": [
        {
          "output_type": "stream",
          "name": "stdout",
          "text": [
            "City: New York\n",
            "Country: United States\n",
            "Population: 8398748\n",
            "Fact: The Statue of Liberty is located in New York Harbor.\n",
            "\n",
            "City: Paris\n",
            "Country: France\n",
            "Population: 2148271\n",
            "Fact: The Eiffel Tower is a famous landmark in Paris.\n",
            "\n",
            "City: Tokyo\n",
            "Country: Japan\n",
            "Population: 13929286\n",
            "Fact: Tokyo is the largest city in Japan and one of the most populous metropolitan areas in the world.\n",
            "\n"
          ]
        }
      ]
    },
    {
      "cell_type": "code",
      "source": [
        "#Dictionary\n",
        "%%file dict_names\n",
        "rajesh, 90\n",
        "sujal, 88\n",
        "tiana, 69\n",
        "tio, 55\n",
        "sandesh, 55\n",
        "shena, 19\n",
        "uma, 79"
      ],
      "metadata": {
        "colab": {
          "base_uri": "https://localhost:8080/"
        },
        "id": "7IW08PcDXjc_",
        "outputId": "c93f66d0-5666-4561-e403-231ccd6e9fec"
      },
      "execution_count": 8,
      "outputs": [
        {
          "output_type": "stream",
          "name": "stdout",
          "text": [
            "Writing dict_names\n"
          ]
        }
      ]
    },
    {
      "cell_type": "code",
      "source": [
        "file_content = {\n",
        "    \"names\": {}\n",
        "}\n",
        "\n",
        "with open(\"dict_names\", \"r\") as fopen:\n",
        "  for line in fopen:\n",
        "    name, grade = line.strip().split(\",\")\n",
        "    file_content[\"names\"][name] = int(grade)\n",
        "\n",
        "print(file_content)\n",
        "sorted_by_name = dict(sorted(file_content[\"names\"].items()))\n",
        "print(sorted_by_name)\n",
        "sorted_by_grade = dict(sorted(file_content[\"names\"].items(), key = lambda item: item[1], reverse=True))\n",
        "print(sorted_by_grade)"
      ],
      "metadata": {
        "colab": {
          "base_uri": "https://localhost:8080/"
        },
        "id": "3qoqksq2XnRf",
        "outputId": "ca3c5040-5986-4c69-8029-328d1178a434"
      },
      "execution_count": 9,
      "outputs": [
        {
          "output_type": "stream",
          "name": "stdout",
          "text": [
            "{'names': {'rajesh': 90, 'sujal': 88, 'tiana': 69, 'tio': 55, 'sandesh': 55, 'shena': 19, 'uma': 79}}\n",
            "{'rajesh': 90, 'sandesh': 55, 'shena': 19, 'sujal': 88, 'tiana': 69, 'tio': 55, 'uma': 79}\n",
            "{'rajesh': 90, 'sujal': 88, 'uma': 79, 'tiana': 69, 'tio': 55, 'sandesh': 55, 'shena': 19}\n"
          ]
        }
      ]
    }
  ]
}