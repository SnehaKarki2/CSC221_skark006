{
  "nbformat": 4,
  "nbformat_minor": 0,
  "metadata": {
    "colab": {
      "provenance": [],
      "authorship_tag": "ABX9TyMVYOr1dKiT9ZfN837A4/vB",
      "include_colab_link": true
    },
    "kernelspec": {
      "name": "python3",
      "display_name": "Python 3"
    },
    "language_info": {
      "name": "python"
    }
  },
  "cells": [
    {
      "cell_type": "markdown",
      "metadata": {
        "id": "view-in-github",
        "colab_type": "text"
      },
      "source": [
        "<a href=\"https://colab.research.google.com/github/SnehaKarki2/CSC221_skark006/blob/main/Assignment_6.ipynb\" target=\"_parent\"><img src=\"https://colab.research.google.com/assets/colab-badge.svg\" alt=\"Open In Colab\"/></a>"
      ]
    },
    {
      "cell_type": "code",
      "execution_count": 1,
      "metadata": {
        "colab": {
          "base_uri": "https://localhost:8080/"
        },
        "id": "qVMGhJks9piz",
        "outputId": "edbec22f-b394-456c-abe7-d6b8d21b98b7"
      },
      "outputs": [
        {
          "output_type": "stream",
          "name": "stdout",
          "text": [
            "\n",
            "Is car == 'subaru'? I predict True.\n",
            "True\n",
            "\n",
            "Is bike == 'kawasaki'? I predict True.\n",
            "True\n",
            "\n",
            "Is car2 == 'toyota'? I predict True.\n",
            "True\n",
            "\n",
            "Is car == 'audi'? I predict False.\n",
            "False\n",
            "\n",
            "Is bike == 'buggati'? I predict False.\n",
            "False\n",
            "\n",
            "Is car2 == 'ford'? I predict False.\n",
            "False\n"
          ]
        }
      ],
      "source": [
        "\n",
        "# Name = Sneha Karki\n",
        "# Assignment 6\n",
        "# Email = skark006@plattsburgh.edu\n",
        "# CSC221A-Intro to Programming\n",
        "\n",
        "# 5.1\n",
        "car = 'subaru'\n",
        "bike = 'kawasaki'\n",
        "car2 = 'toyota'\n",
        "\n",
        "print(\"\\nIs car == 'subaru'? I predict True.\")\n",
        "print(car == 'subaru')\n",
        "\n",
        "print(\"\\nIs bike == 'kawasaki'? I predict True.\")\n",
        "print(bike == 'kawasaki')\n",
        "\n",
        "print(\"\\nIs car2 == 'toyota'? I predict True.\")\n",
        "print(car2 == 'toyota')\n",
        "\n",
        "print(\"\\nIs car == 'audi'? I predict False.\")\n",
        "print(car == 'audi')\n",
        "\n",
        "print(\"\\nIs bike == 'buggati'? I predict False.\")\n",
        "print(bike == 'buggati')\n",
        "\n",
        "print(\"\\nIs car2 == 'ford'? I predict False.\")\n",
        "print(car2 == 'ford')\n",
        ""
      ]
    },
    {
      "cell_type": "code",
      "source": [
        "#5.2\n",
        "car = ['subaru', 'ford', 'toyota', 'HONDA', 'hundai', 'mitsubishi', 'gmc']\n",
        "if car[1] == 'ford':\n",
        "  print(\"It's a ford!!!\")\n",
        "\n",
        "if car[0] != 'toyota':\n",
        "  print(\"It's not a toyota :(\")\n",
        "\n",
        "if car[3].lower() == 'HONDA':\n",
        "  print(\"It's a honda!!!\")\n",
        "\n",
        "age = 21\n",
        "if age > 18:\n",
        "  print(\"Can vote.\")\n",
        "else:\n",
        "  print(\"Cannot vote.\")\n",
        "\n",
        "if age > 18 or age == 18:\n",
        "  print(\"Can vote.\")\n",
        "\n",
        "print('toyota' in car)\n",
        "print('bugatti' not in car)"
      ],
      "metadata": {
        "colab": {
          "base_uri": "https://localhost:8080/"
        },
        "id": "TioQNf3k-AcO",
        "outputId": "df5383dd-9eb2-45f2-f4d1-b874febf2499"
      },
      "execution_count": 2,
      "outputs": [
        {
          "output_type": "stream",
          "name": "stdout",
          "text": [
            "It's a ford!!!\n",
            "It's not a toyota :(\n",
            "Can vote.\n",
            "Can vote.\n",
            "True\n",
            "True\n"
          ]
        }
      ]
    },
    {
      "cell_type": "code",
      "source": [
        "# 5.3\n",
        "alien_color = ['green', 'yellow', 'red']\n",
        "if 'green' in alien_color:\n",
        "  print(\"Congrats!!! You earned 5 points.\")\n",
        "\n",
        "if 'green' not in alien_color:\n",
        "  print(\"Congrats!!! You earned 5 points.\")\n",
        ""
      ],
      "metadata": {
        "colab": {
          "base_uri": "https://localhost:8080/"
        },
        "id": "zheDVXwl-aFW",
        "outputId": "2d223e91-d7f0-410c-969d-812f1947de9e"
      },
      "execution_count": 3,
      "outputs": [
        {
          "output_type": "stream",
          "name": "stdout",
          "text": [
            "Congrats!!! You earned 5 points.\n"
          ]
        }
      ]
    },
    {
      "cell_type": "code",
      "source": [
        "# 5.6\n",
        "age2 = 66\n",
        "if age2 < 2:\n",
        "  print(\"The person is a baby.\")\n",
        "elif 2 <= age2 < 4:\n",
        "  print(\"The person is a toddler\")\n",
        "elif 4 <= age2 < 13:\n",
        "  print(\"The person is a kid\")\n",
        "elif 13 <= age2 < 20:\n",
        "  print(\"The person is a teenager.\")\n",
        "elif 20 <= age2 < 65:\n",
        "  print(\"The person is an adult.\")\n",
        "else:\n",
        "  print(\"The person is an elder.\")\n"
      ],
      "metadata": {
        "colab": {
          "base_uri": "https://localhost:8080/"
        },
        "id": "jUpyVbnW-gCZ",
        "outputId": "6453dee4-6689-465a-e662-1a6680a70bf7"
      },
      "execution_count": 4,
      "outputs": [
        {
          "output_type": "stream",
          "name": "stdout",
          "text": [
            "The person is an elder.\n"
          ]
        }
      ]
    },
    {
      "cell_type": "code",
      "source": [
        "def activity_suggestion(temperature):\n",
        "    if temperature >= 30:\n",
        "        return \"It's hot outside! How about going for a swim?\"\n",
        "    elif 20 <= temperature < 30:\n",
        "        return \"It's a nice day for hiking.\"\n",
        "    elif 10 <= temperature < 20:\n",
        "        return \"It's a bit chilly. Consider reading indoors.\"\n",
        "    elif temperature < 10:\n",
        "        return \"Cold weather alert! Skiing could be fun.\"\n",
        "    else:\n",
        "        return \"Error: Invalid temperature input.\"\n",
        "\n",
        "# Test cases\n",
        "temperatures = [35, 25, 15, 5, -1]\n",
        "for temp in temperatures:\n",
        "    print(f\"At {temp}°C: {activity_suggestion(temp)}\")\n"
      ],
      "metadata": {
        "colab": {
          "base_uri": "https://localhost:8080/"
        },
        "id": "YnIJBHBP-iKw",
        "outputId": "c7f6fbf2-8f90-44bc-fd7a-5d50be7c5adb"
      },
      "execution_count": 5,
      "outputs": [
        {
          "output_type": "stream",
          "name": "stdout",
          "text": [
            "At 35°C: It's hot outside! How about going for a swim?\n",
            "At 25°C: It's a nice day for hiking.\n",
            "At 15°C: It's a bit chilly. Consider reading indoors.\n",
            "At 5°C: Cold weather alert! Skiing could be fun.\n",
            "At -1°C: Cold weather alert! Skiing could be fun.\n"
          ]
        }
      ]
    },
    {
      "cell_type": "code",
      "source": [],
      "metadata": {
        "id": "rpyF-Qgv-iQP"
      },
      "execution_count": null,
      "outputs": []
    }
  ]
}