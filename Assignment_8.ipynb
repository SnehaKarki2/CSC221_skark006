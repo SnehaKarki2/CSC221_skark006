{
  "nbformat": 4,
  "nbformat_minor": 0,
  "metadata": {
    "colab": {
      "provenance": [],
      "authorship_tag": "ABX9TyN/158Rf6uFOb+pwinP6+PY",
      "include_colab_link": true
    },
    "kernelspec": {
      "name": "python3",
      "display_name": "Python 3"
    },
    "language_info": {
      "name": "python"
    }
  },
  "cells": [
    {
      "cell_type": "markdown",
      "metadata": {
        "id": "view-in-github",
        "colab_type": "text"
      },
      "source": [
        "<a href=\"https://colab.research.google.com/github/SnehaKarki2/CSC221_skark006/blob/main/Assignment_8.ipynb\" target=\"_parent\"><img src=\"https://colab.research.google.com/assets/colab-badge.svg\" alt=\"Open In Colab\"/></a>"
      ]
    },
    {
      "cell_type": "code",
      "execution_count": 16,
      "metadata": {
        "colab": {
          "base_uri": "https://localhost:8080/"
        },
        "id": "IZ-dX4Xtb996",
        "outputId": "33857533-f028-49f7-e878-cb3470863e17"
      },
      "outputs": [
        {
          "output_type": "stream",
          "name": "stdout",
          "text": [
            "One of my favorite books is Alice in Wonderland.\n"
          ]
        }
      ],
      "source": [
        "# Name = Sneha Karki\n",
        "# Assignment 8\n",
        "# Email = skark006@plattsburgh.edu\n",
        "# CSC221A - Intro to Programming\n",
        "\n",
        "# 8-2\n",
        "def favorite_book(title):\n",
        "    print(f\"One of my favorite books is {title}.\")\n",
        "\n",
        "# Call the function with a book title\n",
        "favorite_book(\"Alice in Wonderland\")"
      ]
    },
    {
      "cell_type": "code",
      "source": [
        "# 8-3\n",
        "def make_shirt(size, message):\n",
        "    print(f\"Shirt size: {size}, Messsage: {message}\")\n",
        "\n",
        "# Call the function using positional arguments\n",
        "make_shirt(\"Large\", \"Hello, World!\")\n",
        "\n",
        "# Call the function using keyword arguments\n",
        "make_shirt(size=\"Medium\", message=\"Python Lover\")"
      ],
      "metadata": {
        "colab": {
          "base_uri": "https://localhost:8080/"
        },
        "id": "ZQCFeGvQcBxm",
        "outputId": "fc04347c-e30d-485c-e8d9-c32e58211dcd"
      },
      "execution_count": 2,
      "outputs": [
        {
          "output_type": "stream",
          "name": "stdout",
          "text": [
            "Shirt size: Large, Messsage: Hello, World!\n",
            "Shirt size: Medium, Messsage: Python Lover\n"
          ]
        }
      ]
    },
    {
      "cell_type": "code",
      "source": [
        "# 8-4\n",
        "def make_shirt(size = \"Large\", message = \"I love Python\"):\n",
        "    print(f\"Shirt size: {size}, Messsage: {message}\")\n",
        "\n",
        "# Make a large shirt with the default message\n",
        "make_shirt()\n",
        "\n",
        "# Make a medium shirt with the default message\n",
        "make_shirt(size = \"Medium\")\n",
        "\n",
        "# Make a custom-sized shirt with a different message\n",
        "make_shirt(size = \"Small\", message = \"Coding is fun!\")"
      ],
      "metadata": {
        "colab": {
          "base_uri": "https://localhost:8080/"
        },
        "id": "vW44S3SEcG1S",
        "outputId": "d1c8d6f8-c574-4992-cf24-7b6a0782dda6"
      },
      "execution_count": 3,
      "outputs": [
        {
          "output_type": "stream",
          "name": "stdout",
          "text": [
            "Shirt size: Large, Messsage: I love Python\n",
            "Shirt size: Medium, Messsage: I love Python\n",
            "Shirt size: Small, Messsage: Coding is fun!\n"
          ]
        }
      ]
    },
    {
      "cell_type": "code",
      "source": [
        "# Pseudocode/Flowchart\n",
        "# Define the function func8 with parameters a, b, and c:\n",
        "\n",
        "# a and b are required parameters.\n",
        "# c is an optional parameter with a default value of 42.\n",
        "# Calculate the sum:\n",
        "\n",
        "# Add a, b, and c together.\n",
        "# Calculate the product:\n",
        "\n",
        "# Multiply a, b, and c.\n",
        "# Sort the numbers:\n",
        "\n",
        "# Put a, b, and c into a list.\n",
        "# Sort the list.\n",
        "# Return the results:\n",
        "\n",
        "# Return the sum, the product, and the sorted list."
      ],
      "metadata": {
        "id": "muZy8l5UdpGj"
      },
      "execution_count": null,
      "outputs": []
    },
    {
      "cell_type": "code",
      "source": [
        "# To make a function that takes either 2 or 3 arguments, you can use default\n",
        "# argument values in Python. The third argument can be set to a default value\n",
        "# of 42, which will be used if the argument is not provided."
      ],
      "metadata": {
        "id": "fJdLe5ywfoTr"
      },
      "execution_count": 15,
      "outputs": []
    },
    {
      "cell_type": "code",
      "source": [
        "def func8(a, b, c=42):\n",
        "    sum_of_numbers = a + b + c\n",
        "    product_of_numbers = a * b * c\n",
        "    sorted_list = sorted([a, b, c])\n",
        "    return sum_of_numbers, product_of_numbers, sorted_list"
      ],
      "metadata": {
        "id": "t2d827p6coDv"
      },
      "execution_count": 10,
      "outputs": []
    },
    {
      "cell_type": "code",
      "source": [
        "# Test cases\n",
        "test_cases = [\n",
        "    (10, 5),  # Only two arguments\n",
        "    (10, 5, 3),  # Three arguments\n",
        "    (-1, -5, -3),  # Negative numbers\n",
        "    (0, 5, 10),  # Includes zero\n",
        "    (5, 5, 5),  # All numbers the same\n",
        "]\n",
        "\n",
        "# Running the tests and printing the results\n",
        "# Initialize the counter\n",
        "test_case_number = 1\n",
        "\n",
        "# Loop through each test case\n",
        "for args in test_cases:\n",
        "    # Use the numbers with your function\n",
        "    result = func8(*args)\n",
        "    # Print the test number, the numbers used, and the results\n",
        "    print(f\"Test Case {test_case_number}: Input = {args}, Result = {result}\")\n",
        "    # Increase the counter for the next test case\n",
        "    test_case_number += 1\n"
      ],
      "metadata": {
        "colab": {
          "base_uri": "https://localhost:8080/"
        },
        "id": "jGqQ61vUc_Wg",
        "outputId": "c4658a54-1670-473d-e5a2-12871ce70cd1"
      },
      "execution_count": 13,
      "outputs": [
        {
          "output_type": "stream",
          "name": "stdout",
          "text": [
            "Test Case 1: Input = (10, 5), Result = (57, 2100, [5, 10, 42])\n",
            "Test Case 2: Input = (10, 5, 3), Result = (18, 150, [3, 5, 10])\n",
            "Test Case 3: Input = (-1, -5, -3), Result = (-9, -15, [-5, -3, -1])\n",
            "Test Case 4: Input = (0, 5, 10), Result = (15, 0, [0, 5, 10])\n",
            "Test Case 5: Input = (5, 5, 5), Result = (15, 125, [5, 5, 5])\n"
          ]
        }
      ]
    }
  ]
}