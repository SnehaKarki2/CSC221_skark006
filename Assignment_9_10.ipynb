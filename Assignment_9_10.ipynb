{
  "nbformat": 4,
  "nbformat_minor": 0,
  "metadata": {
    "colab": {
      "provenance": [],
      "authorship_tag": "ABX9TyPCY6cdw5oww6ki6hKbPjEK",
      "include_colab_link": true
    },
    "kernelspec": {
      "name": "python3",
      "display_name": "Python 3"
    },
    "language_info": {
      "name": "python"
    }
  },
  "cells": [
    {
      "cell_type": "markdown",
      "metadata": {
        "id": "view-in-github",
        "colab_type": "text"
      },
      "source": [
        "<a href=\"https://colab.research.google.com/github/SnehaKarki2/CSC221_skark006/blob/main/Assignment_9_10.ipynb\" target=\"_parent\"><img src=\"https://colab.research.google.com/assets/colab-badge.svg\" alt=\"Open In Colab\"/></a>"
      ]
    },
    {
      "cell_type": "code",
      "source": [
        "# Name - Sneha Karki\n",
        "# Email: skark006@plattsburgh.edu\n",
        "# CSC221 Intro to Programming"
      ],
      "metadata": {
        "id": "IQdDCQvg_JX1"
      },
      "execution_count": null,
      "outputs": []
    },
    {
      "cell_type": "code",
      "execution_count": null,
      "metadata": {
        "id": "GwudUIqsznvy"
      },
      "outputs": [],
      "source": [
        "# 1. Function that Takes Text Input: Word Counter:\n",
        "# This function, count_words, takes a string of text as input and returns\n",
        "# the number of words in the string. It's useful for quickly assessing the\n",
        "# length of paragraphs or documents."
      ]
    },
    {
      "cell_type": "code",
      "source": [
        "def count_words(text):\n",
        "    \"\"\"\n",
        "    Counts the number of words in a given text.\n",
        "\n",
        "    Parameters:\n",
        "    text (str): The input text.\n",
        "\n",
        "    Returns:\n",
        "    int: The number of words in the text.\n",
        "    \"\"\"\n",
        "    # Splitting the text by spaces to get words and counting them\n",
        "    return len(text.split())"
      ],
      "metadata": {
        "id": "ZrCxfwkA2mjE"
      },
      "execution_count": 1,
      "outputs": []
    },
    {
      "cell_type": "code",
      "source": [
        "tests = [\n",
        "    (\"Hello, world!\", 3),\n",
        "    (\"\", 0),\n",
        "    (\"This is a test.\", 4),\n",
        "]\n",
        "\n",
        "for (input, expected) in tests:\n",
        "    result = count_words(input)\n",
        "    success = result == expected\n",
        "    print(f\"count words({input}) == {result} is { 'success' if success else 'failure' }\")"
      ],
      "metadata": {
        "colab": {
          "base_uri": "https://localhost:8080/"
        },
        "id": "Ebr_x3EZ3p8t",
        "outputId": "cb419904-0113-4c5f-9418-3e8edccd29a4"
      },
      "execution_count": 7,
      "outputs": [
        {
          "output_type": "stream",
          "name": "stdout",
          "text": [
            "count words(Hello, world!) == 2 is failure\n",
            "count words() == 0 is success\n",
            "count words(This is a test.) == 4 is success\n"
          ]
        }
      ]
    },
    {
      "cell_type": "code",
      "source": [
        "#2. Function with Variable Number of Arguments: Sum\n",
        "#This function sum_numbers accepts a variable number of arguments and returns their sum.\n",
        "#This is  useful for adding an arbitrary number of values without needing to pass them as a list."
      ],
      "metadata": {
        "id": "MBdrneLr4yFy"
      },
      "execution_count": null,
      "outputs": []
    },
    {
      "cell_type": "code",
      "source": [
        "def sum_numbers(*args):\n",
        "    \"\"\"\n",
        "    Sums a variable number of numeric arguments.\n",
        "\n",
        "    Parameters:\n",
        "    *args (int/float): Variable number of numeric arguments.\n",
        "\n",
        "    Returns:\n",
        "    float: The sum of all arguments.\n",
        "    \"\"\"\n",
        "    return sum(args)"
      ],
      "metadata": {
        "id": "JSwg15425Knj"
      },
      "execution_count": 9,
      "outputs": []
    },
    {
      "cell_type": "code",
      "source": [
        "assert sum_numbers(1, 2, 3) == 6\n",
        "assert sum_numbers(10.5, 20.5) == 31.0\n",
        "assert sum_numbers() == 0"
      ],
      "metadata": {
        "id": "HbnQ93r65OLs"
      },
      "execution_count": 10,
      "outputs": []
    },
    {
      "cell_type": "code",
      "source": [
        "#3. Function Returning Multiple Items: Min and Max Finder\n",
        "#find_min_max takes a list of numbers as input\n",
        "# returns both the minimum and maximum numbers in the list\n",
        "# It demonstrates returning multiple values from a function."
      ],
      "metadata": {
        "id": "yH8reF3E5Q8e"
      },
      "execution_count": null,
      "outputs": []
    },
    {
      "cell_type": "code",
      "source": [
        "def find_min_max(numbers):\n",
        "    \"\"\"\n",
        "    Finds the minimum and maximum numbers in a list.\n",
        "\n",
        "    Parameters:\n",
        "    numbers (list of int/float): The list of numbers.\n",
        "\n",
        "    Returns:\n",
        "    tuple: The minimum and maximum number in the list.\n",
        "    \"\"\"\n",
        "    return min(numbers), max(numbers)"
      ],
      "metadata": {
        "id": "5haj1PDv5enQ"
      },
      "execution_count": 11,
      "outputs": []
    },
    {
      "cell_type": "code",
      "source": [
        "assert find_min_max([1, 2, 3, 4, 5]) == (1, 5)\n",
        "assert find_min_max([-1, -2, -3, -4, -5]) == (-5, -1)"
      ],
      "metadata": {
        "id": "oiCqGtRW5hr8"
      },
      "execution_count": 12,
      "outputs": []
    },
    {
      "cell_type": "code",
      "source": [
        "#4. Function Using Sorting: Sort Names\n",
        "#sort_names takes a list of names and returns them sorted alphabetically.\n",
        "# This function demonstrates the use of sorting in a practical scenario."
      ],
      "metadata": {
        "id": "OBoNuy5_5lRN"
      },
      "execution_count": null,
      "outputs": []
    },
    {
      "cell_type": "code",
      "source": [
        "def sort_names(names):\n",
        "    \"\"\"\n",
        "    Sorts a list of names alphabetically.\n",
        "\n",
        "    Parameters:\n",
        "    names (list of str): The list of names.\n",
        "\n",
        "    Returns:\n",
        "    list: The sorted list of names.\n",
        "    \"\"\"\n",
        "    return sorted(names)"
      ],
      "metadata": {
        "id": "JN-LXQEC5xOo"
      },
      "execution_count": 13,
      "outputs": []
    },
    {
      "cell_type": "code",
      "source": [
        "assert sort_names([\"John\", \"Anna\", \"Zoe\"]) == [\"Anna\", \"John\", \"Zoe\"]\n",
        "assert sort_names([\"banana\", \"apple\", \"cherry\"]) == [\"apple\", \"banana\", \"cherry\"]"
      ],
      "metadata": {
        "id": "WNvRpD7x50Pb"
      },
      "execution_count": 14,
      "outputs": []
    },
    {
      "cell_type": "code",
      "source": [
        "#5. Function Using a Dictionary: Inventory Checker\n",
        "#check_inventory takes a product name and returns the quantity available in the inventory.\n",
        "# It demonstrates using a dictionary to manage key-value pairs."
      ],
      "metadata": {
        "id": "5heRT1er52oz"
      },
      "execution_count": null,
      "outputs": []
    },
    {
      "cell_type": "code",
      "source": [
        "def check_inventory(product_name, inventory):\n",
        "    \"\"\"\n",
        "    Checks the quantity of a product in the inventory.\n",
        "\n",
        "    Parameters:\n",
        "    product_name (str): The name of the product.\n",
        "    inventory (dict): The inventory dictionary with product names as keys and quantities as values.\n",
        "\n",
        "    Returns:\n",
        "    int: The quantity of the product in the inventory.\n",
        "    \"\"\"\n",
        "    return inventory.get(product_name, 0)"
      ],
      "metadata": {
        "id": "QiZS7c8i6Enk"
      },
      "execution_count": 15,
      "outputs": []
    },
    {
      "cell_type": "code",
      "source": [
        "inventory = {\"apples\": 10, \"bananas\": 5, \"cherries\": 0}\n",
        "assert check_inventory(\"apples\", inventory) == 10\n",
        "assert check_inventory(\"bananas\", inventory) == 5\n",
        "assert check_inventory(\"pears\", inventory) == 0"
      ],
      "metadata": {
        "id": "Phd7jcmi6G9R"
      },
      "execution_count": 16,
      "outputs": []
    },
    {
      "cell_type": "code",
      "source": [
        "#6. Puzzle Solver: Sudoku Checker\n",
        "\n",
        "# is_valid_sudoku checks if a given Sudoku board (9x9 grid) is valid according to Sudoku rules.\n",
        "# This function demonstrates solving a puzzle through validation rather than generating a solution."
      ],
      "metadata": {
        "id": "2qreVKrr6JVO"
      },
      "execution_count": null,
      "outputs": []
    },
    {
      "cell_type": "code",
      "source": [
        "def is_valid_sudoku(board):\n",
        "    \"\"\"\n",
        "    Checks if a Sudoku board is valid.\n",
        "\n",
        "    Parameters:\n",
        "    board (list of lists): A 9x9 grid representing a Sudoku board.\n",
        "    Each cell contains an integer from 1 to 9 or 0 if the cell is empty.\n",
        "\n",
        "    Returns:\n",
        "    bool: True if the board is valid, False otherwise.\n",
        "    \"\"\"\n",
        "    # Check rows\n",
        "    for row in board:\n",
        "        if not is_valid_group(row):\n",
        "            return False\n",
        "\n",
        "    # Check columns\n",
        "    for col in range(9):\n",
        "        if not is_valid_group([board[row][col] for row in range(9)]):\n",
        "            return False\n",
        "\n",
        "    # Check 3x3 subgrids\n",
        "    for i in range(0, 9, 3):\n",
        "        for j in range(0, 9, 3):\n",
        "            subgrid = [board[x][y] for x in range(i, i+3) for y in range(j, j+3)]\n",
        "            if not is_valid_group(subgrid):\n",
        "                return False\n",
        "\n",
        "    return True\n",
        "\n",
        "def is_valid_group(group):\n",
        "    \"\"\"\n",
        "    Helper function to check if all numbers in a row, column, or 3x3 grid are valid (unique and 1-9).\n",
        "\n",
        "    Parameters:\n",
        "    group (list): A list of numbers representing a row, column, or 3x3 grid in the Sudoku board.\n",
        "\n",
        "    Returns:\n",
        "    bool: True if the group is valid, False otherwise.\n",
        "    \"\"\"\n",
        "    numbers = [num for num in group if num != 0]\n",
        "    return len(numbers) == len(set(numbers))"
      ],
      "metadata": {
        "id": "xG101OE66bY1"
      },
      "execution_count": 17,
      "outputs": []
    },
    {
      "cell_type": "code",
      "source": [
        "valid_board = [\n",
        "    [5, 3, 0, 0, 7, 0, 0, 0, 0],\n",
        "    [6, 0, 0, 1, 9, 5, 0, 0, 0],\n",
        "    [0, 9, 8, 0, 0, 0, 0, 6, 0],\n",
        "    [8, 0, 0, 0, 6, 0, 0, 0, 3],\n",
        "    [4, 0, 0, 8, 0, 3, 0, 0, 1],\n",
        "    [7, 0, 0, 0, 2, 0, 0, 0, 6],\n",
        "    [0, 6, 0, 0, 0, 0, 2, 8, 0],\n",
        "    [0, 0, 0, 4, 1, 9, 0, 0, 5],\n",
        "    [0, 0, 0, 0, 8, 0, 0, 7, 9]\n",
        "]\n",
        "\n",
        "invalid_board = [\n",
        "    [5, 3, 0, 0, 7, 0, 0, 0, 0],\n",
        "    [6, 5, 0, 1, 9, 5, 0, 0, 0], # Duplicate 5 in row and column\n",
        "    [0, 9, 8, 0, 0, 0, 0, 6, 0],\n",
        "    [8, 0, 0, 0, 6, 0, 0, 0, 3],\n",
        "    [4, 0, 0, 8, 0, 3, 0, 0, 1],\n",
        "    [7, 0, 0, 0, 2, 0, 0, 0, 6],\n",
        "    [0, 6, 0, 0, 0, 0, 2, 8, 0],\n",
        "    [0, 0, 0, 4, 1, 9, 0, 0, 5],\n",
        "    [0, 0, 0, 0, 8, 0, 0, 7, 9]\n",
        "]\n",
        "\n",
        "assert is_valid_sudoku(valid_board) == True\n",
        "assert is_valid_sudoku(invalid_board) == False"
      ],
      "metadata": {
        "id": "MaC8WL2n63G4"
      },
      "execution_count": 18,
      "outputs": []
    },
    {
      "cell_type": "code",
      "source": [
        "#7. Tricky Mathematical Computation: Fibonacci Sequence Generator\n",
        "# The function fibonacci generates the Fibonacci sequence up to a given number n.\n",
        "#  It demonstrates a simple yet intriguing mathematical computation."
      ],
      "metadata": {
        "id": "1k76Vf_I65Zl"
      },
      "execution_count": null,
      "outputs": []
    },
    {
      "cell_type": "code",
      "source": [
        "def fibonacci(n):\n",
        "    \"\"\"\n",
        "    Generates the Fibonacci sequence up to the nth number.\n",
        "\n",
        "    Parameters:\n",
        "    n (int): The length of the Fibonacci sequence to generate.\n",
        "\n",
        "    Returns:\n",
        "    list: A list containing the Fibonacci sequence up to n.\n",
        "    \"\"\"\n",
        "    if n <= 0:\n",
        "        return []\n",
        "    sequence = [0, 1]\n",
        "    while len(sequence) < n:\n",
        "        sequence.append(sequence[-1] + sequence[-2])\n",
        "    return sequence[:n]"
      ],
      "metadata": {
        "id": "3UuzozIw7J6j"
      },
      "execution_count": 19,
      "outputs": []
    },
    {
      "cell_type": "code",
      "source": [
        "assert fibonacci(5) == [0, 1, 1, 2, 3]\n",
        "assert fibonacci(10) == [0, 1, 1, 2, 3, 5, 8, 13, 21, 34]\n",
        "assert fibonacci(0) == []"
      ],
      "metadata": {
        "id": "k_JaIRBC7Mij"
      },
      "execution_count": 20,
      "outputs": []
    },
    {
      "cell_type": "code",
      "source": [
        "# 8. Function for Geometric Calculations: Area of a Circle\n",
        "# area_of_circle calculates the area of a circle given its radius.\n",
        "# This function showcases the application of a simple geometric formula."
      ],
      "metadata": {
        "id": "rEvtZGzi7PE7"
      },
      "execution_count": null,
      "outputs": []
    },
    {
      "cell_type": "code",
      "source": [
        "def area_of_circle(radius):\n",
        "    \"\"\"\n",
        "    Calculates the area of a circle given its radius.\n",
        "\n",
        "    Parameters:\n",
        "    radius (float): The radius of the circle.\n",
        "\n",
        "    Returns:\n",
        "    float: The area of the circle.\n",
        "    \"\"\"\n",
        "    pi = 3.141592653589793\n",
        "    return pi * (radius ** 2)"
      ],
      "metadata": {
        "id": "S_EibAp37czj"
      },
      "execution_count": 21,
      "outputs": []
    },
    {
      "cell_type": "code",
      "source": [
        "assert round(area_of_circle(1), 2) == 3.14\n",
        "assert round(area_of_circle(0), 2) == 0\n",
        "assert round(area_of_circle(4.5), 2) == 63.62"
      ],
      "metadata": {
        "id": "jdMWSpnW7fee"
      },
      "execution_count": 22,
      "outputs": []
    },
    {
      "cell_type": "code",
      "source": [
        "# 9. String Manipulation Function: Reverse and Capitalize\n",
        "# reverse_and_capitalize takes a string, reverses it, and then capitalizes the entire string.\n",
        "# This function demonstrates string manipulation techniques."
      ],
      "metadata": {
        "id": "WCLjOR2X7pFw"
      },
      "execution_count": null,
      "outputs": []
    },
    {
      "cell_type": "code",
      "source": [
        "def reverse_and_capitalize(text):\n",
        "    \"\"\"\n",
        "    Reverses and capitalizes a given text.\n",
        "\n",
        "    Parameters:\n",
        "    text (str): The input text.\n",
        "\n",
        "    Returns:\n",
        "    str: The reversed and capitalized text.\n",
        "    \"\"\"\n",
        "    return text[::-1].upper()"
      ],
      "metadata": {
        "id": "WLhufoxD7wbe"
      },
      "execution_count": 23,
      "outputs": []
    },
    {
      "cell_type": "code",
      "source": [
        "assert reverse_and_capitalize(\"hello\") == \"OLLEH\"\n",
        "assert reverse_and_capitalize(\"world\") == \"DLROW\"\n",
        "assert reverse_and_capitalize(\"\") == \"\""
      ],
      "metadata": {
        "id": "4J_RBw6I7zot"
      },
      "execution_count": 24,
      "outputs": []
    },
    {
      "cell_type": "code",
      "source": [
        "# 10. Data Analysis Function: Average Calculator\n",
        "# calculate_average takes a list of numbers and returns their average.\n",
        "# This function is useful for basic data analysis tasks."
      ],
      "metadata": {
        "id": "u51rnie_72fs"
      },
      "execution_count": null,
      "outputs": []
    },
    {
      "cell_type": "code",
      "source": [
        "def calculate_average(numbers):\n",
        "    \"\"\"\n",
        "    Calculates the average of a list of numbers.\n",
        "\n",
        "    Parameters:\n",
        "    numbers (list of float/int): The list of numbers.\n",
        "\n",
        "    Returns:\n",
        "    float: The average of the numbers.\n",
        "    \"\"\"\n",
        "    if not numbers:\n",
        "        return 0\n",
        "    return sum(numbers) / len(numbers)"
      ],
      "metadata": {
        "id": "9dRhXXOB8BsI"
      },
      "execution_count": 25,
      "outputs": []
    },
    {
      "cell_type": "code",
      "source": [
        "assert calculate_average([1, 2, 3, 4, 5]) == 3\n",
        "assert calculate_average([10, 20, 30]) == 20\n",
        "assert calculate_average([]) == 0"
      ],
      "metadata": {
        "id": "tTMb0Kli8D-n"
      },
      "execution_count": 26,
      "outputs": []
    }
  ]
}