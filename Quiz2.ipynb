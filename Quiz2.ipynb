{
  "nbformat": 4,
  "nbformat_minor": 0,
  "metadata": {
    "colab": {
      "provenance": [],
      "authorship_tag": "ABX9TyNaG+x6WOqR9VdO4pLVjAo+",
      "include_colab_link": true
    },
    "kernelspec": {
      "name": "python3",
      "display_name": "Python 3"
    },
    "language_info": {
      "name": "python"
    }
  },
  "cells": [
    {
      "cell_type": "markdown",
      "metadata": {
        "id": "view-in-github",
        "colab_type": "text"
      },
      "source": [
        "<a href=\"https://colab.research.google.com/github/SnehaKarki2/CSC221_skark006/blob/main/Quiz2.ipynb\" target=\"_parent\"><img src=\"https://colab.research.google.com/assets/colab-badge.svg\" alt=\"Open In Colab\"/></a>"
      ]
    },
    {
      "cell_type": "code",
      "execution_count": 2,
      "metadata": {
        "colab": {
          "base_uri": "https://localhost:8080/"
        },
        "id": "DqYilmc1NV9j",
        "outputId": "b345d2b8-3a35-422c-81b2-dbd9f7b127c0"
      },
      "outputs": [
        {
          "output_type": "stream",
          "name": "stdout",
          "text": [
            "x is None!\n"
          ]
        }
      ],
      "source": [
        "#NONE\n",
        "x = None\n",
        "if x is None:\n",
        "    print(\"x is None!\")  # Output: x is None!\n"
      ]
    },
    {
      "cell_type": "code",
      "source": [
        "#and\n",
        "a = True\n",
        "b = False\n",
        "print(a and b)  # Output: False\n",
        "print(a and not b)  # Output: True\n"
      ],
      "metadata": {
        "colab": {
          "base_uri": "https://localhost:8080/"
        },
        "id": "7d58ydjIOLjy",
        "outputId": "c4e8e0a9-f1e3-4664-f2c2-e0648345cc9d"
      },
      "execution_count": 1,
      "outputs": [
        {
          "output_type": "stream",
          "name": "stdout",
          "text": [
            "False\n",
            "True\n"
          ]
        }
      ]
    },
    {
      "cell_type": "code",
      "source": [
        "#as\n",
        "import math as m\n",
        "print(m.sqrt(16))"
      ],
      "metadata": {
        "colab": {
          "base_uri": "https://localhost:8080/"
        },
        "id": "14DxSu8BOX8t",
        "outputId": "4ba2e55c-ddbe-4fc0-dcd3-f295f87fa734"
      },
      "execution_count": 4,
      "outputs": [
        {
          "output_type": "stream",
          "name": "stdout",
          "text": [
            "4.0\n"
          ]
        }
      ]
    },
    {
      "cell_type": "code",
      "source": [
        "#assert\n",
        "#The assert is used to test if a condition in your code returns True.\n",
        "assert 2 + 2 == 4\n"
      ],
      "metadata": {
        "id": "5qWPsNlJOheJ"
      },
      "execution_count": 9,
      "outputs": []
    },
    {
      "cell_type": "code",
      "source": [
        "#break\n",
        "for i in range(10):\n",
        "    if i == 5:\n",
        "        break\n",
        "    print(i)"
      ],
      "metadata": {
        "colab": {
          "base_uri": "https://localhost:8080/"
        },
        "id": "BLZZopg1PSmX",
        "outputId": "d0900447-b62f-47a8-a11d-913159c0e93f"
      },
      "execution_count": 20,
      "outputs": [
        {
          "output_type": "stream",
          "name": "stdout",
          "text": [
            "0\n",
            "1\n",
            "2\n",
            "3\n",
            "4\n"
          ]
        }
      ]
    },
    {
      "cell_type": "code",
      "source": [
        "#class\n",
        "class MyClass:\n",
        "    def __init__(self, value):\n",
        "        self.value = value\n",
        "\n",
        "my_object = MyClass(10)\n",
        "print(my_object.value)\n"
      ],
      "metadata": {
        "colab": {
          "base_uri": "https://localhost:8080/"
        },
        "id": "9HLXlglLO7VS",
        "outputId": "fe323a9c-8846-4a3f-8644-1c00fabd2a27"
      },
      "execution_count": 21,
      "outputs": [
        {
          "output_type": "stream",
          "name": "stdout",
          "text": [
            "10\n"
          ]
        }
      ]
    },
    {
      "cell_type": "code",
      "source": [
        "#contiue\n",
        "for i in range(10):\n",
        "    if i % 2 == 0:\n",
        "        continue\n",
        "    print(i)"
      ],
      "metadata": {
        "colab": {
          "base_uri": "https://localhost:8080/"
        },
        "id": "RUV_urVjPvW-",
        "outputId": "4aed190d-6f4c-481d-ad45-c1abd11211f1"
      },
      "execution_count": 22,
      "outputs": [
        {
          "output_type": "stream",
          "name": "stdout",
          "text": [
            "1\n",
            "3\n",
            "5\n",
            "7\n",
            "9\n"
          ]
        }
      ]
    },
    {
      "cell_type": "code",
      "source": [
        "#return\n",
        "def my_function():\n",
        "    return \"I am stupid!\"\n",
        "\n",
        "print(my_function())"
      ],
      "metadata": {
        "colab": {
          "base_uri": "https://localhost:8080/"
        },
        "id": "yTWupwZQPxs-",
        "outputId": "eed6bcb2-3b9f-4f4d-e544-c864a6e827c6"
      },
      "execution_count": 24,
      "outputs": [
        {
          "output_type": "stream",
          "name": "stdout",
          "text": [
            "I am stupid!\n"
          ]
        }
      ]
    },
    {
      "cell_type": "code",
      "source": [
        "#del\n",
        "x = [1, 2, 3]\n",
        "del x[1]\n",
        "print(x)"
      ],
      "metadata": {
        "colab": {
          "base_uri": "https://localhost:8080/"
        },
        "id": "DbHiKq78P22r",
        "outputId": "1d5c1f9c-ed8b-4d26-9de6-aab71264fe8c"
      },
      "execution_count": 25,
      "outputs": [
        {
          "output_type": "stream",
          "name": "stdout",
          "text": [
            "[1, 3]\n"
          ]
        }
      ]
    },
    {
      "cell_type": "code",
      "source": [
        "#elif\n",
        "x = 5\n",
        "if x > 10:\n",
        "    print(\"x is greater than 10\")\n",
        "elif x > 5:\n",
        "    print(\"x is greater than 5\")\n",
        "else:\n",
        "    print(\"x is 5 or less\")"
      ],
      "metadata": {
        "colab": {
          "base_uri": "https://localhost:8080/"
        },
        "id": "rM_0RnhUP5E4",
        "outputId": "5010716f-47de-4d10-bc23-2c855bad9e23"
      },
      "execution_count": 26,
      "outputs": [
        {
          "output_type": "stream",
          "name": "stdout",
          "text": [
            "x is 5 or less\n"
          ]
        }
      ]
    },
    {
      "cell_type": "code",
      "source": [
        "#else\n",
        "for i in range(3):\n",
        "    print(i)\n",
        "else:\n",
        "    print(\"Loop completed\")"
      ],
      "metadata": {
        "colab": {
          "base_uri": "https://localhost:8080/"
        },
        "id": "kYAL86BqP94L",
        "outputId": "dacce5a3-7c8d-4699-e5a8-bacb3fab4d7a"
      },
      "execution_count": 27,
      "outputs": [
        {
          "output_type": "stream",
          "name": "stdout",
          "text": [
            "0\n",
            "1\n",
            "2\n",
            "Loop completed\n"
          ]
        }
      ]
    },
    {
      "cell_type": "code",
      "source": [
        "#except\n",
        "try:\n",
        "    x = 1 / 0\n",
        "except ZeroDivisionError:\n",
        "    print(\"Cannot divide by zero!\")"
      ],
      "metadata": {
        "colab": {
          "base_uri": "https://localhost:8080/"
        },
        "id": "Ne8zhK6ZQAJ_",
        "outputId": "18fe58ab-a387-4913-c9b5-b18da6733889"
      },
      "execution_count": 54,
      "outputs": [
        {
          "output_type": "stream",
          "name": "stdout",
          "text": [
            "Cannot divide by zero!\n"
          ]
        }
      ]
    },
    {
      "cell_type": "code",
      "source": [
        "#not\n",
        "flag = False\n",
        "if not flag:\n",
        "    print(\"The flag is False\")"
      ],
      "metadata": {
        "colab": {
          "base_uri": "https://localhost:8080/"
        },
        "id": "gMCjWpEfQCk7",
        "outputId": "231aaa9b-c0b7-481c-b2ae-87ad34091e5e"
      },
      "execution_count": 29,
      "outputs": [
        {
          "output_type": "stream",
          "name": "stdout",
          "text": [
            "The flag is False\n"
          ]
        }
      ]
    },
    {
      "cell_type": "code",
      "source": [
        "#except\n",
        "try:\n",
        "    x = 1 / 0\n",
        "except ZeroDivisionError:\n",
        "    print(\"Caught division by zero\")\n",
        "finally:\n",
        "    print(\"This runs no matter what\")"
      ],
      "metadata": {
        "colab": {
          "base_uri": "https://localhost:8080/"
        },
        "id": "ghjYd92ZQEpe",
        "outputId": "9e3921c9-39e0-44c6-af70-f48165254a34"
      },
      "execution_count": 30,
      "outputs": [
        {
          "output_type": "stream",
          "name": "stdout",
          "text": [
            "Caught division by zero\n",
            "This runs no matter what\n"
          ]
        }
      ]
    },
    {
      "cell_type": "code",
      "source": [
        "#for\n",
        "for i in range(5):\n",
        "    print(i)"
      ],
      "metadata": {
        "colab": {
          "base_uri": "https://localhost:8080/"
        },
        "id": "Or1sb3hpQH03",
        "outputId": "2ab5a671-15e4-42d0-cee5-85467488b219"
      },
      "execution_count": 31,
      "outputs": [
        {
          "output_type": "stream",
          "name": "stdout",
          "text": [
            "0\n",
            "1\n",
            "2\n",
            "3\n",
            "4\n"
          ]
        }
      ]
    },
    {
      "cell_type": "code",
      "source": [
        "#from\n",
        "from math import pi\n",
        "print(f\"The value of pi is {pi}\")"
      ],
      "metadata": {
        "colab": {
          "base_uri": "https://localhost:8080/"
        },
        "id": "H1hn6m94QKwp",
        "outputId": "bcc41d2d-1f81-4c3e-f84e-c0b179e16174"
      },
      "execution_count": 32,
      "outputs": [
        {
          "output_type": "stream",
          "name": "stdout",
          "text": [
            "The value of pi is 3.141592653589793\n"
          ]
        }
      ]
    },
    {
      "cell_type": "code",
      "source": [
        "#global\n",
        "x = 10\n",
        "\n",
        "def modify_global():\n",
        "    global x\n",
        "    x = 20\n",
        "\n",
        "modify_global()\n",
        "print(x)"
      ],
      "metadata": {
        "colab": {
          "base_uri": "https://localhost:8080/"
        },
        "id": "fxNgjCqqQNZI",
        "outputId": "1f490981-7348-428f-dca0-b3d97a496a28"
      },
      "execution_count": 33,
      "outputs": [
        {
          "output_type": "stream",
          "name": "stdout",
          "text": [
            "20\n"
          ]
        }
      ]
    },
    {
      "cell_type": "code",
      "source": [
        "#if\n",
        "x = 5\n",
        "if x > 3:\n",
        "    print(\"x is greater than 3\")"
      ],
      "metadata": {
        "colab": {
          "base_uri": "https://localhost:8080/"
        },
        "id": "cPTOYThnQPiV",
        "outputId": "712a6da0-4d48-472f-e2c1-84000fa21fee"
      },
      "execution_count": 34,
      "outputs": [
        {
          "output_type": "stream",
          "name": "stdout",
          "text": [
            "x is greater than 3\n"
          ]
        }
      ]
    },
    {
      "cell_type": "code",
      "source": [
        "#import\n",
        "import random\n",
        "print(random.randint(1, 10))"
      ],
      "metadata": {
        "colab": {
          "base_uri": "https://localhost:8080/"
        },
        "id": "tiiM5ZOIQRXz",
        "outputId": "95a5b221-86dd-4783-dcdd-db467f4b7f7b"
      },
      "execution_count": 35,
      "outputs": [
        {
          "output_type": "stream",
          "name": "stdout",
          "text": [
            "8\n"
          ]
        }
      ]
    },
    {
      "cell_type": "code",
      "source": [
        "#in\n",
        "numbers = [1, 2, 3, 4, 5]\n",
        "if 3 in numbers:\n",
        "    print(\"3 is in the list\")"
      ],
      "metadata": {
        "colab": {
          "base_uri": "https://localhost:8080/"
        },
        "id": "Og30RLlbQUcs",
        "outputId": "5963cf21-039a-4967-f797-5bf9a58b30a5"
      },
      "execution_count": 36,
      "outputs": [
        {
          "output_type": "stream",
          "name": "stdout",
          "text": [
            "3 is in the list\n"
          ]
        }
      ]
    },
    {
      "cell_type": "code",
      "source": [
        "#is\n",
        "a = [1, 2, 3]\n",
        "b = a\n",
        "print(a is b)\n",
        "print(a == b)"
      ],
      "metadata": {
        "colab": {
          "base_uri": "https://localhost:8080/"
        },
        "id": "FhrKU5sTQemJ",
        "outputId": "8441475f-0a05-4c2f-fb87-025b2cacba24"
      },
      "execution_count": 37,
      "outputs": [
        {
          "output_type": "stream",
          "name": "stdout",
          "text": [
            "True\n",
            "True\n"
          ]
        }
      ]
    },
    {
      "cell_type": "code",
      "source": [
        "#lambda\n",
        "square = lambda x: x * x\n",
        "print(square(5))"
      ],
      "metadata": {
        "colab": {
          "base_uri": "https://localhost:8080/"
        },
        "id": "mK11cOZfQkRc",
        "outputId": "b26ad932-2097-49bf-ffbe-2c2f6948ec43"
      },
      "execution_count": 38,
      "outputs": [
        {
          "output_type": "stream",
          "name": "stdout",
          "text": [
            "25\n"
          ]
        }
      ]
    },
    {
      "cell_type": "code",
      "source": [
        "#none\n",
        "x = None\n",
        "print(x is None)"
      ],
      "metadata": {
        "colab": {
          "base_uri": "https://localhost:8080/"
        },
        "id": "H0hUx18RQm31",
        "outputId": "9ac388f4-c544-4a10-b5ff-7c055a180247"
      },
      "execution_count": 39,
      "outputs": [
        {
          "output_type": "stream",
          "name": "stdout",
          "text": [
            "True\n"
          ]
        }
      ]
    },
    {
      "cell_type": "code",
      "source": [
        "#nonlocal\n",
        "def outer():\n",
        "    x = \"outer x\"\n",
        "\n",
        "    def inner():\n",
        "        nonlocal x\n",
        "        x = \"inner x\"\n",
        "        print(\"inner:\", x)\n",
        "\n",
        "    inner()\n",
        "    print(\"outer:\", x)\n",
        "\n",
        "outer()"
      ],
      "metadata": {
        "colab": {
          "base_uri": "https://localhost:8080/"
        },
        "id": "PwLnKvWXQpoq",
        "outputId": "683e8045-69fc-43fe-e3d3-22f179a44843"
      },
      "execution_count": 40,
      "outputs": [
        {
          "output_type": "stream",
          "name": "stdout",
          "text": [
            "inner: inner x\n",
            "outer: inner x\n"
          ]
        }
      ]
    },
    {
      "cell_type": "code",
      "source": [
        "#not\n",
        "print(not True)\n",
        "print(not False)"
      ],
      "metadata": {
        "colab": {
          "base_uri": "https://localhost:8080/"
        },
        "id": "5k4-EQ3OQsFv",
        "outputId": "2ac7ed04-7e3e-4b5d-fa12-24883b37b448"
      },
      "execution_count": 41,
      "outputs": [
        {
          "output_type": "stream",
          "name": "stdout",
          "text": [
            "False\n",
            "True\n"
          ]
        }
      ]
    },
    {
      "cell_type": "code",
      "source": [
        "#or\n",
        "a = True\n",
        "b = False\n",
        "print(a or b)"
      ],
      "metadata": {
        "colab": {
          "base_uri": "https://localhost:8080/"
        },
        "id": "tx3Go5UVQwTf",
        "outputId": "28415e80-dca3-4f19-dc95-99ed923f3e5f"
      },
      "execution_count": 42,
      "outputs": [
        {
          "output_type": "stream",
          "name": "stdout",
          "text": [
            "True\n"
          ]
        }
      ]
    },
    {
      "cell_type": "code",
      "source": [
        "#pass\n",
        "def my_function():\n",
        "    pass\n",
        "\n",
        "my_function()"
      ],
      "metadata": {
        "id": "VFV0ogqTQyzo"
      },
      "execution_count": 45,
      "outputs": []
    },
    {
      "cell_type": "code",
      "source": [
        "#raise\n",
        "def check_positive(x):\n",
        "    if x <= 0:\n",
        "        raise ValueError(\"x should be positive\")\n",
        "    return x\n",
        "\n",
        "try:\n",
        "    print(check_positive(-1))\n",
        "except ValueError as e:\n",
        "    print(e)"
      ],
      "metadata": {
        "colab": {
          "base_uri": "https://localhost:8080/"
        },
        "id": "w-yw0VNiQ27s",
        "outputId": "ea7b5635-9982-443f-e088-8fea17d6f91e"
      },
      "execution_count": 46,
      "outputs": [
        {
          "output_type": "stream",
          "name": "stdout",
          "text": [
            "x should be positive\n"
          ]
        }
      ]
    },
    {
      "cell_type": "code",
      "source": [
        "#add\n",
        "def add(a, b):\n",
        "    return a + b\n",
        "\n",
        "print(add(2, 3))"
      ],
      "metadata": {
        "colab": {
          "base_uri": "https://localhost:8080/"
        },
        "id": "if-Sk9eFQ5ef",
        "outputId": "ff7bf816-9832-4171-de50-61f9117cfe15"
      },
      "execution_count": 47,
      "outputs": [
        {
          "output_type": "stream",
          "name": "stdout",
          "text": [
            "5\n"
          ]
        }
      ]
    },
    {
      "cell_type": "code",
      "source": [
        "#true\n",
        "flag = True\n",
        "if flag:\n",
        "    print(\"The flag is True\")"
      ],
      "metadata": {
        "colab": {
          "base_uri": "https://localhost:8080/"
        },
        "id": "51Zyy3VSQ7ph",
        "outputId": "10d07199-6c28-4b83-ec90-1470c49707a8"
      },
      "execution_count": 48,
      "outputs": [
        {
          "output_type": "stream",
          "name": "stdout",
          "text": [
            "The flag is True\n"
          ]
        }
      ]
    },
    {
      "cell_type": "code",
      "source": [
        "#try\n",
        "try:\n",
        "    x = 1 / 0\n",
        "except ZeroDivisionError:\n",
        "    print(\"Division by zero error\")"
      ],
      "metadata": {
        "colab": {
          "base_uri": "https://localhost:8080/"
        },
        "id": "c9AyGe7XQ9-w",
        "outputId": "7b5f240e-477d-4ac8-8ba7-26e6184898a1"
      },
      "execution_count": 49,
      "outputs": [
        {
          "output_type": "stream",
          "name": "stdout",
          "text": [
            "Division by zero error\n"
          ]
        }
      ]
    },
    {
      "cell_type": "code",
      "source": [
        "#while\n",
        "i = 0\n",
        "while i < 5:\n",
        "    print(i)\n",
        "    i += 1"
      ],
      "metadata": {
        "colab": {
          "base_uri": "https://localhost:8080/"
        },
        "id": "pDLhTMYVRBOS",
        "outputId": "1fa8e5f3-00d3-44cc-83a0-839dd2336a38"
      },
      "execution_count": 50,
      "outputs": [
        {
          "output_type": "stream",
          "name": "stdout",
          "text": [
            "0\n",
            "1\n",
            "2\n",
            "3\n",
            "4\n"
          ]
        }
      ]
    },
    {
      "cell_type": "code",
      "source": [
        "#with\n",
        "with open(\"sample.txt\", \"w\") as file:\n",
        "    file.write(\"Hello, world!\")"
      ],
      "metadata": {
        "id": "Q1q9LY7aRDpv"
      },
      "execution_count": 52,
      "outputs": []
    },
    {
      "cell_type": "code",
      "source": [
        "#yield\n",
        "def generate_numbers():\n",
        "    for i in range(5):\n",
        "        yield i\n",
        "\n",
        "for number in generate_numbers():\n",
        "    print(number)"
      ],
      "metadata": {
        "colab": {
          "base_uri": "https://localhost:8080/"
        },
        "id": "KhnloYCyRGk_",
        "outputId": "6626bc02-c5ea-45b5-c32c-9c0444b897ff"
      },
      "execution_count": 53,
      "outputs": [
        {
          "output_type": "stream",
          "name": "stdout",
          "text": [
            "0\n",
            "1\n",
            "2\n",
            "3\n",
            "4\n"
          ]
        }
      ]
    },
    {
      "cell_type": "code",
      "source": [
        "import asyncio\n",
        "\n",
        "async def say_hello():\n",
        "    await asyncio.sleep(1)\n",
        "    print(\"Hello, async world!\")\n",
        "\n",
        "asyncio.run(say_hello())"
      ],
      "metadata": {
        "id": "dVuDJ_MqSiop"
      },
      "execution_count": null,
      "outputs": []
    }
  ]
}