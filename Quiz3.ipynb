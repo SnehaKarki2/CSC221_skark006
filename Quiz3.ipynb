{
  "nbformat": 4,
  "nbformat_minor": 0,
  "metadata": {
    "colab": {
      "provenance": [],
      "authorship_tag": "ABX9TyMQDqnfaSYHwdxB0PvDJny6",
      "include_colab_link": true
    },
    "kernelspec": {
      "name": "python3",
      "display_name": "Python 3"
    },
    "language_info": {
      "name": "python"
    }
  },
  "cells": [
    {
      "cell_type": "markdown",
      "metadata": {
        "id": "view-in-github",
        "colab_type": "text"
      },
      "source": [
        "<a href=\"https://colab.research.google.com/github/SnehaKarki2/CSC221_skark006/blob/main/Quiz3.ipynb\" target=\"_parent\"><img src=\"https://colab.research.google.com/assets/colab-badge.svg\" alt=\"Open In Colab\"/></a>"
      ]
    },
    {
      "cell_type": "code",
      "execution_count": 2,
      "metadata": {
        "colab": {
          "base_uri": "https://localhost:8080/"
        },
        "id": "-eIWAXAwU2YT",
        "outputId": "52e03ed5-f64c-4bfe-ad62-a9e48ed8e691"
      },
      "outputs": [
        {
          "output_type": "stream",
          "name": "stdout",
          "text": [
            "6\n"
          ]
        }
      ],
      "source": [
        "# sum() Get the sum of all items in a list\n",
        "print(sum([1, 2, 3]))  # Output: 6\n"
      ]
    },
    {
      "cell_type": "code",
      "source": [
        "#sorted()\n",
        "# Return a sorted list\n",
        "print(sorted([3, 1, 2]))  # Output: [1, 2, 3]\n"
      ],
      "metadata": {
        "colab": {
          "base_uri": "https://localhost:8080/"
        },
        "id": "I8EWV6XmVby8",
        "outputId": "174b7c0a-ab43-4e6e-fec4-1d08fa5b83dd"
      },
      "execution_count": 1,
      "outputs": [
        {
          "output_type": "stream",
          "name": "stdout",
          "text": [
            "[1, 2, 3]\n"
          ]
        }
      ]
    },
    {
      "cell_type": "code",
      "source": [
        "#min()\n",
        "# Get the minimum value in a list\n",
        "print(min([1, 2, 3]))  # Output: 1\n",
        "\n"
      ],
      "metadata": {
        "colab": {
          "base_uri": "https://localhost:8080/"
        },
        "id": "AM7fqelTVgr7",
        "outputId": "9f11e0e0-b689-4270-96ff-2668691c37df"
      },
      "execution_count": 3,
      "outputs": [
        {
          "output_type": "stream",
          "name": "stdout",
          "text": [
            "1\n"
          ]
        }
      ]
    },
    {
      "cell_type": "code",
      "source": [
        "#float()\n",
        "# Convert a string to a float\n",
        "print(float('3.14'))  # Output: 3.14\n"
      ],
      "metadata": {
        "colab": {
          "base_uri": "https://localhost:8080/"
        },
        "id": "Am3PHz2uVoUA",
        "outputId": "4d307fe5-62c3-4194-ef55-901a6ecb2646"
      },
      "execution_count": 4,
      "outputs": [
        {
          "output_type": "stream",
          "name": "stdout",
          "text": [
            "3.14\n"
          ]
        }
      ]
    },
    {
      "cell_type": "code",
      "source": [
        "#max()\n",
        "# Get the maximum value in a list\n",
        "print(max([1, 2, 3]))  # Output: 3\n",
        "\n"
      ],
      "metadata": {
        "colab": {
          "base_uri": "https://localhost:8080/"
        },
        "id": "b9wl5PZyVsbS",
        "outputId": "51ec761a-3e74-4c46-a96b-f7604099662f"
      },
      "execution_count": 6,
      "outputs": [
        {
          "output_type": "stream",
          "name": "stdout",
          "text": [
            "3\n"
          ]
        }
      ]
    },
    {
      "cell_type": "code",
      "source": [
        "#max()\n",
        "# Get the maximum value in a list\n",
        "print(max([1, 2, 3]))  # Output: 3\n"
      ],
      "metadata": {
        "colab": {
          "base_uri": "https://localhost:8080/"
        },
        "id": "Nc2WUuMWV8KU",
        "outputId": "9cecec33-6c9a-4582-b634-3d1f3e1de8a7"
      },
      "execution_count": 7,
      "outputs": [
        {
          "output_type": "stream",
          "name": "stdout",
          "text": [
            "3\n"
          ]
        }
      ]
    },
    {
      "cell_type": "code",
      "source": [
        "#map\n",
        "# Apply a function to all items in a list\n",
        "result = map(lambda x: x * 2, [1, 2, 3])\n",
        "print(list(result))  # Output: [2, 4, 6]\n"
      ],
      "metadata": {
        "colab": {
          "base_uri": "https://localhost:8080/"
        },
        "id": "mM3uW3oLWBoU",
        "outputId": "e9dd7c31-bb35-4bfd-9ec0-65fb52df9e91"
      },
      "execution_count": 8,
      "outputs": [
        {
          "output_type": "stream",
          "name": "stdout",
          "text": [
            "[2, 4, 6]\n"
          ]
        }
      ]
    },
    {
      "cell_type": "code",
      "source": [
        "#list\n",
        "# Convert a string to a list\n",
        "print(list('hello'))"
      ],
      "metadata": {
        "colab": {
          "base_uri": "https://localhost:8080/"
        },
        "id": "PO3XM3RCWE9V",
        "outputId": "4b1d4b46-6ed9-470f-818c-f4bbdc03482a"
      },
      "execution_count": 14,
      "outputs": [
        {
          "output_type": "stream",
          "name": "stdout",
          "text": [
            "['h', 'e', 'l', 'l', 'o']\n"
          ]
        }
      ]
    },
    {
      "cell_type": "code",
      "source": [
        "#len()\n",
        "# Get the length of a list\n",
        "print(len([1, 2, 3]))"
      ],
      "metadata": {
        "colab": {
          "base_uri": "https://localhost:8080/"
        },
        "id": "5_ajetygWI21",
        "outputId": "e76cd124-3741-4389-85b3-b378f434d6f9"
      },
      "execution_count": 9,
      "outputs": [
        {
          "output_type": "stream",
          "name": "stdout",
          "text": [
            "3\n"
          ]
        }
      ]
    },
    {
      "cell_type": "code",
      "source": [
        "#int\n",
        "# Convert a string to an integer\n",
        "print(int('42'))"
      ],
      "metadata": {
        "colab": {
          "base_uri": "https://localhost:8080/"
        },
        "id": "nXYwYC4aWNEY",
        "outputId": "63e69775-b505-46bd-efc6-d4e3c85112b5"
      },
      "execution_count": 10,
      "outputs": [
        {
          "output_type": "stream",
          "name": "stdout",
          "text": [
            "42\n"
          ]
        }
      ]
    },
    {
      "cell_type": "code",
      "source": [
        "#hex()\n",
        "# Convert an integer to a hexadecimal string\n",
        "print(hex(255))"
      ],
      "metadata": {
        "colab": {
          "base_uri": "https://localhost:8080/"
        },
        "id": "DgJBe-QUWQIb",
        "outputId": "2e306a70-678d-415c-e9c2-9a5532c58b4f"
      },
      "execution_count": 11,
      "outputs": [
        {
          "output_type": "stream",
          "name": "stdout",
          "text": [
            "0xff\n"
          ]
        }
      ]
    },
    {
      "cell_type": "code",
      "source": [
        "#filter()\n",
        "# Filter a list using a function\n",
        "result = filter(lambda x: x % 2 == 0, [1, 2, 3, 4, 5])\n",
        "print(list(result))"
      ],
      "metadata": {
        "colab": {
          "base_uri": "https://localhost:8080/"
        },
        "id": "Nis7V8EAWT8t",
        "outputId": "934547c1-44dd-4eaf-c363-bc7508b2e1f8"
      },
      "execution_count": 12,
      "outputs": [
        {
          "output_type": "stream",
          "name": "stdout",
          "text": [
            "[2, 4]\n"
          ]
        }
      ]
    },
    {
      "cell_type": "code",
      "source": [
        "#eval()\n",
        "# Evaluate a string as a Python expression\n",
        "print(eval('3 + 4'))\n"
      ],
      "metadata": {
        "colab": {
          "base_uri": "https://localhost:8080/"
        },
        "id": "596CCoedWbgW",
        "outputId": "7cd49db0-07be-4b00-f4dd-242abaf655b4"
      },
      "execution_count": 13,
      "outputs": [
        {
          "output_type": "stream",
          "name": "stdout",
          "text": [
            "7\n"
          ]
        }
      ]
    },
    {
      "cell_type": "code",
      "source": [
        "#enumerate()\n",
        "# enumertate over a list with an index\n",
        "for i, x in enumerate([1, 2, 3]):\n",
        "    print(i, x)"
      ],
      "metadata": {
        "colab": {
          "base_uri": "https://localhost:8080/"
        },
        "id": "1EZHEqdKWg3x",
        "outputId": "30182091-78b0-414f-bc84-f207e5a027e5"
      },
      "execution_count": 15,
      "outputs": [
        {
          "output_type": "stream",
          "name": "stdout",
          "text": [
            "0 1\n",
            "1 2\n",
            "2 3\n"
          ]
        }
      ]
    },
    {
      "cell_type": "code",
      "source": [
        "#divmod\n",
        "# Get the quotient and remainder of a division\n",
        "print(divmod(10, 3))"
      ],
      "metadata": {
        "colab": {
          "base_uri": "https://localhost:8080/"
        },
        "id": "_iGqwalbWtyH",
        "outputId": "ca36a1ed-d7a3-4354-b965-9cb95208abb0"
      },
      "execution_count": 16,
      "outputs": [
        {
          "output_type": "stream",
          "name": "stdout",
          "text": [
            "(3, 1)\n"
          ]
        }
      ]
    },
    {
      "cell_type": "code",
      "source": [
        "#chr()\n",
        "# Convert an integer to a character\n",
        "print(chr(65))"
      ],
      "metadata": {
        "colab": {
          "base_uri": "https://localhost:8080/"
        },
        "id": "U_fpkKqCWx8g",
        "outputId": "ecad8152-dfb7-4fd1-8562-35ccb0bd37aa"
      },
      "execution_count": 17,
      "outputs": [
        {
          "output_type": "stream",
          "name": "stdout",
          "text": [
            "A\n"
          ]
        }
      ]
    },
    {
      "cell_type": "code",
      "source": [
        "#bool()\n",
        "# Convert a value to a boolean\n",
        "print(bool(0))"
      ],
      "metadata": {
        "colab": {
          "base_uri": "https://localhost:8080/"
        },
        "id": "G-x0DXlPW3vW",
        "outputId": "ffc67d93-01e4-4900-9af6-06c9ea9c4c83"
      },
      "execution_count": 18,
      "outputs": [
        {
          "output_type": "stream",
          "name": "stdout",
          "text": [
            "False\n"
          ]
        }
      ]
    },
    {
      "cell_type": "code",
      "source": [
        "#bin\n",
        "# Convert an integer to a binary string\n",
        "print(bin(255))"
      ],
      "metadata": {
        "colab": {
          "base_uri": "https://localhost:8080/"
        },
        "id": "Hp-SmMkoW9jg",
        "outputId": "22141f53-38ad-491a-88d2-69935da281a2"
      },
      "execution_count": 19,
      "outputs": [
        {
          "output_type": "stream",
          "name": "stdout",
          "text": [
            "0b11111111\n"
          ]
        }
      ]
    },
    {
      "cell_type": "code",
      "source": [
        "#any\n",
        "# Check if any items in a list are true\n",
        "print(any([True, False, True]))"
      ],
      "metadata": {
        "colab": {
          "base_uri": "https://localhost:8080/"
        },
        "id": "eQUPh74OXBI6",
        "outputId": "6004f1c4-5e1c-4ee4-f318-02172b3c3718"
      },
      "execution_count": 20,
      "outputs": [
        {
          "output_type": "stream",
          "name": "stdout",
          "text": [
            "True\n"
          ]
        }
      ]
    },
    {
      "cell_type": "code",
      "source": [
        "#all\n",
        "# Check if all items in a list are true\n",
        "print(all([True, False, True]))"
      ],
      "metadata": {
        "colab": {
          "base_uri": "https://localhost:8080/"
        },
        "id": "LvRP_eX1XEXs",
        "outputId": "29bd3799-c7d3-41c4-855b-2a2c8b28c4f3"
      },
      "execution_count": 22,
      "outputs": [
        {
          "output_type": "stream",
          "name": "stdout",
          "text": [
            "False\n"
          ]
        }
      ]
    },
    {
      "cell_type": "code",
      "source": [
        "#abs()\n",
        "# Get the absolute value of a number\n",
        "print(abs(-10))"
      ],
      "metadata": {
        "colab": {
          "base_uri": "https://localhost:8080/"
        },
        "id": "h5wFn0qPXKrk",
        "outputId": "36040472-3f27-4067-c335-cf12ced2a24b"
      },
      "execution_count": 23,
      "outputs": [
        {
          "output_type": "stream",
          "name": "stdout",
          "text": [
            "10\n"
          ]
        }
      ]
    }
  ]
}