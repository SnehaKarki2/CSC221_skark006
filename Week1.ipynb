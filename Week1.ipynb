{
  "nbformat": 4,
  "nbformat_minor": 0,
  "metadata": {
    "colab": {
      "provenance": [],
      "authorship_tag": "ABX9TyMFs5KxJkesztAbuWWoiPGK",
      "include_colab_link": true
    },
    "kernelspec": {
      "name": "python3",
      "display_name": "Python 3"
    },
    "language_info": {
      "name": "python"
    }
  },
  "cells": [
    {
      "cell_type": "markdown",
      "metadata": {
        "id": "view-in-github",
        "colab_type": "text"
      },
      "source": [
        "<a href=\"https://colab.research.google.com/github/SnehaKarki2/CSC221_skark006/blob/main/Week1.ipynb\" target=\"_parent\"><img src=\"https://colab.research.google.com/assets/colab-badge.svg\" alt=\"Open In Colab\"/></a>"
      ]
    },
    {
      "cell_type": "code",
      "execution_count": 5,
      "metadata": {
        "colab": {
          "base_uri": "https://localhost:8080/"
        },
        "id": "n1ecCCBtj8tZ",
        "outputId": "1435c29f-2299-4390-8a7c-ba4fca0628ab"
      },
      "outputs": [
        {
          "output_type": "stream",
          "name": "stdout",
          "text": [
            "The product of 45 * 20 = 900\n"
          ]
        }
      ],
      "source": [
        "a=45\n",
        "b=20\n",
        "total=a*b\n",
        "print(f\"The product of {a} * {b} = {total}\")"
      ]
    },
    {
      "cell_type": "code",
      "source": [
        "num = int(input(\"Give me a number: \"))\n",
        "square = num ** 2\n",
        "print(f\"The square of {num} is {square}\")"
      ],
      "metadata": {
        "colab": {
          "base_uri": "https://localhost:8080/"
        },
        "id": "wQKiBzrIk1ED",
        "outputId": "2a83ed70-de80-45bb-c2be-5ecce3574b42"
      },
      "execution_count": 10,
      "outputs": [
        {
          "output_type": "stream",
          "name": "stdout",
          "text": [
            "Give me a number: 5\n",
            "The square of 5 is 25\n"
          ]
        }
      ]
    }
  ]
}